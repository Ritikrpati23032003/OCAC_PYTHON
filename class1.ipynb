{
 "cells": [
  {
   "cell_type": "code",
   "execution_count": 1,
   "id": "11c3dbca-b079-42ba-b80f-d637a6787ce0",
   "metadata": {},
   "outputs": [],
   "source": [
    "class myclass:\n",
    "    x=410\n",
    "    y=20\n",
    "    z=x*y"
   ]
  },
  {
   "cell_type": "code",
   "execution_count": 2,
   "id": "ae1737c7-2bdc-4ee9-ab41-05e2fb3e32dc",
   "metadata": {},
   "outputs": [
    {
     "name": "stdout",
     "output_type": "stream",
     "text": [
      "8200\n"
     ]
    }
   ],
   "source": [
    "p=myclass()\n",
    "print(p.z)"
   ]
  },
  {
   "cell_type": "code",
   "execution_count": 3,
   "id": "d319305b-ee51-448a-bd03-ed9e3c3a1793",
   "metadata": {},
   "outputs": [
    {
     "name": "stdout",
     "output_type": "stream",
     "text": [
      "Riitk\n",
      "25\n"
     ]
    }
   ],
   "source": [
    "#init Function\n",
    "class person:\n",
    "    def __init__(self,name,age):\n",
    "        self.name=name\n",
    "        self.age=age\n",
    "p1=person(\"Riitk\",25)\n",
    "print(p1.name)\n",
    "print(p1.age)\n",
    "    "
   ]
  },
  {
   "cell_type": "code",
   "execution_count": 4,
   "id": "d948a5bd-554c-4187-a052-e335a756357c",
   "metadata": {},
   "outputs": [
    {
     "data": {
      "text/plain": [
       "410"
      ]
     },
     "execution_count": 4,
     "metadata": {},
     "output_type": "execute_result"
    }
   ],
   "source": [
    "myclass.x"
   ]
  },
  {
   "cell_type": "code",
   "execution_count": 1,
   "id": "f8d8f095-7ca7-4c6c-9c5d-d072e61229b5",
   "metadata": {},
   "outputs": [
    {
     "ename": "SyntaxError",
     "evalue": "incomplete input (3867025471.py, line 2)",
     "output_type": "error",
     "traceback": [
      "\u001b[1;36m  Cell \u001b[1;32mIn[1], line 2\u001b[1;36m\u001b[0m\n\u001b[1;33m    \u001b[0m\n\u001b[1;37m    ^\u001b[0m\n\u001b[1;31mSyntaxError\u001b[0m\u001b[1;31m:\u001b[0m incomplete input\n"
     ]
    }
   ],
   "source": [
    "class person:\n",
    "    "
   ]
  },
  {
   "cell_type": "code",
   "execution_count": 2,
   "id": "c8a8ee37-21dc-4988-a5a8-4a273bf842ff",
   "metadata": {},
   "outputs": [],
   "source": [
    "class person:\n",
    "    pass\n",
    "    "
   ]
  },
  {
   "cell_type": "code",
   "execution_count": 3,
   "id": "86189d8a-871d-453d-8de1-752295a47fd9",
   "metadata": {},
   "outputs": [
    {
     "name": "stdout",
     "output_type": "stream",
     "text": [
      "Riitk 21\n"
     ]
    },
    {
     "ename": "AttributeError",
     "evalue": "'NoneType' object has no attribute 'myfunc'",
     "output_type": "error",
     "traceback": [
      "\u001b[1;31m---------------------------------------------------------------------------\u001b[0m",
      "\u001b[1;31mAttributeError\u001b[0m                            Traceback (most recent call last)",
      "Cell \u001b[1;32mIn[3], line 8\u001b[0m\n\u001b[0;32m      6\u001b[0m         \u001b[38;5;28mprint\u001b[39m(\u001b[38;5;124m\"\u001b[39m\u001b[38;5;124mHello my name is\u001b[39m\u001b[38;5;124m\"\u001b[39m\u001b[38;5;241m+\u001b[39m\u001b[38;5;28mself\u001b[39m\u001b[38;5;241m.\u001b[39mname)\n\u001b[0;32m      7\u001b[0m p1\u001b[38;5;241m=\u001b[39m\u001b[38;5;28mprint\u001b[39m(\u001b[38;5;124m\"\u001b[39m\u001b[38;5;124mRiitk\u001b[39m\u001b[38;5;124m\"\u001b[39m,\u001b[38;5;241m21\u001b[39m)\n\u001b[1;32m----> 8\u001b[0m p1\u001b[38;5;241m.\u001b[39mmyfunc()\n",
      "\u001b[1;31mAttributeError\u001b[0m: 'NoneType' object has no attribute 'myfunc'"
     ]
    }
   ],
   "source": [
    "class person:\n",
    "    def __init__(self,name,age):\n",
    "        self.name = name\n",
    "        self.age=age\n",
    "    def myfunc(self):\n",
    "        print(\"Hello my name is\"+self.name)\n",
    "p1=print(\"Riitk\",21)\n",
    "p1.myfunc()"
   ]
  },
  {
   "cell_type": "code",
   "execution_count": 4,
   "id": "3e1d481f-afb5-47ae-bfbc-900c5d12a6cb",
   "metadata": {},
   "outputs": [
    {
     "ename": "IndentationError",
     "evalue": "expected an indented block after class definition on line 1 (1905535878.py, line 2)",
     "output_type": "error",
     "traceback": [
      "\u001b[1;36m  Cell \u001b[1;32mIn[4], line 2\u001b[1;36m\u001b[0m\n\u001b[1;33m    Total = 500 # Class variable\u001b[0m\n\u001b[1;37m    ^\u001b[0m\n\u001b[1;31mIndentationError\u001b[0m\u001b[1;31m:\u001b[0m expected an indented block after class definition on line 1\n"
     ]
    }
   ],
   "source": [
    "class Student:\n",
    "Total = 500 # Class variable\n",
    "def __init__(a,marks):\n",
    "a.marks=marks\n",
    "print(\"Initialized...\")\n",
    "def mul(self):\n",
    "return self.marks * self.Total\n",
    "p1 = Student(300)\n",
    "p1.mul()"
   ]
  },
  {
   "cell_type": "code",
   "execution_count": 8,
   "id": "6b19a2b4-b1ca-4a65-94b1-1740472fecd0",
   "metadata": {},
   "outputs": [],
   "source": [
    "class Student:\n",
    "    Total = 500 # Class variable\n",
    "    def __init__(self, name, marks,gender):\n",
    "        self.name=name\n",
    "        self.marks=marks\n",
    "        self.gender=gender\n",
    "        print(\"Initialized...\")\n",
    "    def __len__(self):\n",
    "        return self.marks\n",
    "    def __str__(self):\n",
    "        return \"Name: %s | Marks: %s | Gender: %s\" %(self.name,self.marks,self.gender)\n",
    "    def __del__(self):\n",
    "        print(\"Student Database is Deleted\")"
   ]
  },
  {
   "cell_type": "code",
   "execution_count": 9,
   "id": "8247a6a1-16f5-4159-8292-14c52c4e36b9",
   "metadata": {},
   "outputs": [
    {
     "name": "stdout",
     "output_type": "stream",
     "text": [
      "Initialized...\n",
      "Initialized...\n"
     ]
    }
   ],
   "source": [
    "a = Student('Ritik', '454', 'male')\n",
    "B = Student('chiku', 356, 'Female')"
   ]
  },
  {
   "cell_type": "code",
   "execution_count": 10,
   "id": "457e2bd1-3b13-463b-ab43-bc013cc9776e",
   "metadata": {},
   "outputs": [
    {
     "name": "stdout",
     "output_type": "stream",
     "text": [
      "Name: chiku | Marks: 356 | Gender: Female\n"
     ]
    }
   ],
   "source": [
    "print(B)"
   ]
  },
  {
   "cell_type": "code",
   "execution_count": 12,
   "id": "59ca5f2b-5488-4256-bbde-e81dea28899c",
   "metadata": {},
   "outputs": [
    {
     "name": "stdout",
     "output_type": "stream",
     "text": [
      "Hello my name is John 36\n"
     ]
    }
   ],
   "source": [
    "class Person:\n",
    "    def __init__(mysillyobject, name, age):\n",
    "        mysillyobject.name = name\n",
    "        mysillyobject.age = age\n",
    "    def myfunc(abc):\n",
    "        print(\"Hello my name is \" + abc.name, + abc.age )\n",
    "p1 = Person(\"John\", 36)\n",
    "p1.myfunc()"
   ]
  },
  {
   "cell_type": "code",
   "execution_count": 13,
   "id": "b1758b2d-d07b-4204-9b4e-396e95e5ee49",
   "metadata": {},
   "outputs": [
    {
     "name": "stdout",
     "output_type": "stream",
     "text": [
      "Hello my name is John 40\n"
     ]
    }
   ],
   "source": [
    "p1.age = 40\n",
    "p1.myfunc()"
   ]
  },
  {
   "cell_type": "code",
   "execution_count": 14,
   "id": "bd37b118-17c2-43b2-9f18-288ef3d9fbb8",
   "metadata": {},
   "outputs": [
    {
     "ename": "AttributeError",
     "evalue": "'Person' object has no attribute 'age'",
     "output_type": "error",
     "traceback": [
      "\u001b[1;31m---------------------------------------------------------------------------\u001b[0m",
      "\u001b[1;31mAttributeError\u001b[0m                            Traceback (most recent call last)",
      "Cell \u001b[1;32mIn[14], line 2\u001b[0m\n\u001b[0;32m      1\u001b[0m \u001b[38;5;28;01mdel\u001b[39;00m p1\u001b[38;5;241m.\u001b[39mage\n\u001b[1;32m----> 2\u001b[0m p1\u001b[38;5;241m.\u001b[39mmyfunc()\n",
      "Cell \u001b[1;32mIn[12], line 6\u001b[0m, in \u001b[0;36mPerson.myfunc\u001b[1;34m(abc)\u001b[0m\n\u001b[0;32m      5\u001b[0m \u001b[38;5;28;01mdef\u001b[39;00m \u001b[38;5;21mmyfunc\u001b[39m(abc):\n\u001b[1;32m----> 6\u001b[0m     \u001b[38;5;28mprint\u001b[39m(\u001b[38;5;124m\"\u001b[39m\u001b[38;5;124mHello my name is \u001b[39m\u001b[38;5;124m\"\u001b[39m \u001b[38;5;241m+\u001b[39m abc\u001b[38;5;241m.\u001b[39mname, \u001b[38;5;241m+\u001b[39m abc\u001b[38;5;241m.\u001b[39mage )\n",
      "\u001b[1;31mAttributeError\u001b[0m: 'Person' object has no attribute 'age'"
     ]
    }
   ],
   "source": [
    "del p1.age\n",
    "p1.myfunc()"
   ]
  },
  {
   "cell_type": "code",
   "execution_count": 20,
   "id": "66bd96c9-b468-4eaa-99bc-efe1e022eab5",
   "metadata": {},
   "outputs": [
    {
     "ename": "NameError",
     "evalue": "name 'p1' is not defined",
     "output_type": "error",
     "traceback": [
      "\u001b[1;31m---------------------------------------------------------------------------\u001b[0m",
      "\u001b[1;31mNameError\u001b[0m                                 Traceback (most recent call last)",
      "Cell \u001b[1;32mIn[20], line 1\u001b[0m\n\u001b[1;32m----> 1\u001b[0m \u001b[38;5;28;01mdel\u001b[39;00m p1\n\u001b[0;32m      2\u001b[0m p1\u001b[38;5;241m.\u001b[39mmyfunc()\n",
      "\u001b[1;31mNameError\u001b[0m: name 'p1' is not defined"
     ]
    }
   ],
   "source": [
    "del p1\n",
    "p1.myfunc()"
   ]
  },
  {
   "cell_type": "code",
   "execution_count": 25,
   "id": "6e30c504-ae71-441c-887f-dd487339cdd7",
   "metadata": {},
   "outputs": [
    {
     "name": "stdout",
     "output_type": "stream",
     "text": [
      "Sanjukta Pati\n"
     ]
    }
   ],
   "source": [
    "class Person:\n",
    "    def __init__(self, fname, lname):\n",
    "        self.firstname = fname\n",
    "        self.lastname = lname\n",
    "    def printname(self):\n",
    "        print(self.firstname, self.lastname)\n",
    "x = Person(\"Sanjukta\", \"Pati\")\n",
    "x.printname()"
   ]
  },
  {
   "cell_type": "code",
   "execution_count": 26,
   "id": "ead34567-d912-437c-92f0-1431c7516f8a",
   "metadata": {},
   "outputs": [],
   "source": [
    "class Student(Person):\n",
    "    pass"
   ]
  },
  {
   "cell_type": "code",
   "execution_count": 27,
   "id": "e354e1d6-5c68-4793-bc17-9b35ef2194e5",
   "metadata": {},
   "outputs": [
    {
     "name": "stdout",
     "output_type": "stream",
     "text": [
      "Riitk Pati\n"
     ]
    }
   ],
   "source": [
    "x = Student(\"Riitk\", \"Pati\")\n",
    "x.printname()"
   ]
  },
  {
   "cell_type": "code",
   "execution_count": 28,
   "id": "78b98d19-e0ca-4c4f-8680-d543a643e874",
   "metadata": {},
   "outputs": [],
   "source": [
    "class Student(Person):\n",
    "    def __init__(self, fname, lname):\n",
    "        pass"
   ]
  },
  {
   "cell_type": "code",
   "execution_count": 29,
   "id": "fed959c8-ddd5-4414-83e3-2813ef2ae6e9",
   "metadata": {},
   "outputs": [
    {
     "name": "stdout",
     "output_type": "stream",
     "text": [
      "Riitk Pati\n"
     ]
    }
   ],
   "source": [
    "class Student(Person):\n",
    "    def __init__(self, fname, lname):\n",
    "        Person.__init__(self, fname, lname)\n",
    "    x = Student(\"Mike\", \"Olsen\")\n",
    "x.printname()"
   ]
  },
  {
   "cell_type": "code",
   "execution_count": 31,
   "id": "636dfc48-3af0-45ed-bcc7-cf6ababa94e8",
   "metadata": {},
   "outputs": [
    {
     "name": "stdout",
     "output_type": "stream",
     "text": [
      "2024\n",
      "Mishra pati\n"
     ]
    }
   ],
   "source": [
    "class Person:\n",
    "    def __init__(self, fname, lname):\n",
    "        self.firstname = fname\n",
    "        self.lastname = lname\n",
    "    def printname(self):\n",
    "        print(self.firstname, self.lastname)\n",
    "class Student(Person):\n",
    "    def __init__(self, fname, lname):\n",
    "        super().__init__(fname, lname)\n",
    "        self.graduationyear = 2024\n",
    "x = Student(\"Mishra\", \"pati\")\n",
    "print(x.graduationyear)\n",
    "x.printname()"
   ]
  },
  {
   "cell_type": "code",
   "execution_count": 35,
   "id": "c3f8ce4e-5408-4117-8743-a5e223c78cf8",
   "metadata": {},
   "outputs": [],
   "source": [
    "class Sohan:\n",
    "    def __init__(self):\n",
    "        print(\"Profile created\")\n",
    "    def name(self):\n",
    "        print(\"Sohan Mohapatra\")\n",
    "    def age(self):\n",
    "        print(\"22\")"
   ]
  },
  {
   "cell_type": "code",
   "execution_count": 36,
   "id": "d147aeba-b0cf-4fdd-8bcb-b82cb3121f18",
   "metadata": {},
   "outputs": [],
   "source": [
    "class SpaceX(Sohan):\n",
    "    def __init__(self):\n",
    "        super().__init__() # Correctly call the parent class's initializer\n",
    "        print(\"Company Profile created\")\n",
    "    def name(self):\n",
    "        print(\"SpaceX\")\n",
    "    def type(self):\n",
    "        print(\"Private Space travel\")"
   ]
  },
  {
   "cell_type": "code",
   "execution_count": 37,
   "id": "e0c135d8-eaea-4fd3-9668-0b6a9542d554",
   "metadata": {},
   "outputs": [
    {
     "name": "stdout",
     "output_type": "stream",
     "text": [
      "Profile created\n",
      "Company Profile created\n",
      "SpaceX\n",
      "22\n",
      "Private Space travel\n"
     ]
    }
   ],
   "source": [
    "# Creating an instance of the SpaceX class\n",
    "spacex_profile = SpaceX()\n",
    "# Calling methods on the instance\n",
    "spacex_profile.name()\n",
    "spacex_profile.age()\n",
    "spacex_profile.type()"
   ]
  },
  {
   "cell_type": "code",
   "execution_count": 38,
   "id": "3d3d0466-99b6-480d-a957-71d9009fa09b",
   "metadata": {},
   "outputs": [
    {
     "name": "stdout",
     "output_type": "stream",
     "text": [
      "Profile created\n",
      "Company Profile created\n",
      "Student Database is Deleted\n"
     ]
    }
   ],
   "source": [
    "a = SpaceX()"
   ]
  },
  {
   "cell_type": "code",
   "execution_count": 39,
   "id": "892b1099-7d9e-44d9-b34c-31d70cd93542",
   "metadata": {},
   "outputs": [],
   "source": [
    "class Elon:\n",
    "    def __init__(self, name):\n",
    "        self.name = name\n",
    "    def type(self):\n",
    "        return \"Entrepreneur\"\n",
    "class Sundar:\n",
    "    def __init__(self, name):\n",
    "        self.name = name\n",
    "    def type(self):\n",
    "        return \"CEO\""
   ]
  },
  {
   "cell_type": "code",
   "execution_count": 40,
   "id": "d3231ae0-d955-4e42-8005-74c16bb200e8",
   "metadata": {},
   "outputs": [
    {
     "name": "stdout",
     "output_type": "stream",
     "text": [
      "Elon Musk is a Entrepreneur\n",
      "Sundar Pichai is a CEO\n"
     ]
    }
   ],
   "source": [
    "person1 = Elon('Elon Musk')\n",
    "person2 = Sundar('Sundar Pichai')\n",
    "# Function to demonstrate polymorphism\n",
    "def print_person_type(person):\n",
    "    print(f\"{person.name} is a {person.type()}\")\n",
    "# Calling the function with different objects\n",
    "print_person_type(person1)\n",
    "print_person_type(person2)"
   ]
  },
  {
   "cell_type": "code",
   "execution_count": 42,
   "id": "369a9fa7-67b9-4b56-9c09-dd217631d1de",
   "metadata": {},
   "outputs": [
    {
     "name": "stdout",
     "output_type": "stream",
     "text": [
      "10\n"
     ]
    }
   ],
   "source": [
    "class MyClass:\n",
    "    def __init__(self, value):\n",
    "        self.value = value\n",
    "obj = MyClass(10)\n",
    "print(obj.value)"
   ]
  },
  {
   "cell_type": "code",
   "execution_count": null,
   "id": "5c7e9944-5e8e-4d6f-808f-7a5cc2f714ed",
   "metadata": {},
   "outputs": [],
   "source": []
  }
 ],
 "metadata": {
  "kernelspec": {
   "display_name": "Python 3 (ipykernel)",
   "language": "python",
   "name": "python3"
  },
  "language_info": {
   "codemirror_mode": {
    "name": "ipython",
    "version": 3
   },
   "file_extension": ".py",
   "mimetype": "text/x-python",
   "name": "python",
   "nbconvert_exporter": "python",
   "pygments_lexer": "ipython3",
   "version": "3.11.7"
  }
 },
 "nbformat": 4,
 "nbformat_minor": 5
}
