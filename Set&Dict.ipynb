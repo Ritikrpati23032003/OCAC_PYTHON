{
 "cells": [
  {
   "cell_type": "code",
   "execution_count": 26,
   "id": "e28a6339-a7d5-4220-8e95-10afba60b0f7",
   "metadata": {},
   "outputs": [
    {
     "name": "stdout",
     "output_type": "stream",
     "text": [
      "{2, 3}\n"
     ]
    }
   ],
   "source": [
    "#set\n",
    "a={2,3}\n",
    "b=a\n",
    "print(b)"
   ]
  },
  {
   "cell_type": "code",
   "execution_count": 28,
   "id": "46334e84-57e8-49f8-861d-1bc5096ed180",
   "metadata": {},
   "outputs": [
    {
     "data": {
      "text/plain": [
       "{2, 3}"
      ]
     },
     "execution_count": 28,
     "metadata": {},
     "output_type": "execute_result"
    }
   ],
   "source": [
    "d=a.copy()\n",
    "d"
   ]
  },
  {
   "cell_type": "code",
   "execution_count": 32,
   "id": "802dc6a2-4513-4acc-99d2-caec84b28873",
   "metadata": {},
   "outputs": [
    {
     "name": "stdout",
     "output_type": "stream",
     "text": [
      "{2, 3, 5}\n"
     ]
    }
   ],
   "source": [
    "a.add(5)\n",
    "print(a)"
   ]
  },
  {
   "cell_type": "code",
   "execution_count": 36,
   "id": "e9d69202-1e47-492f-9a52-6d51e834da60",
   "metadata": {},
   "outputs": [
    {
     "name": "stdout",
     "output_type": "stream",
     "text": [
      "{2, 3, 5, 23, 56}\n"
     ]
    }
   ],
   "source": [
    "a.update([56,23],{23})\n",
    "print(a)"
   ]
  },
  {
   "cell_type": "code",
   "execution_count": 37,
   "id": "7092bec7-0624-4827-9202-3696ce34867b",
   "metadata": {},
   "outputs": [
    {
     "data": {
      "text/plain": [
       "{2, 3, 23, 56}"
      ]
     },
     "execution_count": 37,
     "metadata": {},
     "output_type": "execute_result"
    }
   ],
   "source": [
    "a.remove(5)\n",
    "a"
   ]
  },
  {
   "cell_type": "code",
   "execution_count": 38,
   "id": "86811ee7-44ea-474d-9e6e-9b12d5b83a3f",
   "metadata": {},
   "outputs": [],
   "source": [
    "a.discard(7)"
   ]
  },
  {
   "cell_type": "code",
   "execution_count": 39,
   "id": "322dd21d-6c26-43ab-adf3-1748c62a83b8",
   "metadata": {},
   "outputs": [
    {
     "ename": "KeyError",
     "evalue": "7",
     "output_type": "error",
     "traceback": [
      "\u001b[1;31m---------------------------------------------------------------------------\u001b[0m",
      "\u001b[1;31mKeyError\u001b[0m                                  Traceback (most recent call last)",
      "Cell \u001b[1;32mIn[39], line 1\u001b[0m\n\u001b[1;32m----> 1\u001b[0m a\u001b[38;5;241m.\u001b[39mremove(\u001b[38;5;241m7\u001b[39m)\n",
      "\u001b[1;31mKeyError\u001b[0m: 7"
     ]
    }
   ],
   "source": [
    "a.remove(7)"
   ]
  },
  {
   "cell_type": "code",
   "execution_count": 40,
   "id": "83a897a7-4f59-44c5-8194-a9dec16e3bbb",
   "metadata": {},
   "outputs": [
    {
     "data": {
      "text/plain": [
       "{3, 23, 56}"
      ]
     },
     "execution_count": 40,
     "metadata": {},
     "output_type": "execute_result"
    }
   ],
   "source": [
    "a.pop()\n",
    "a"
   ]
  },
  {
   "cell_type": "code",
   "execution_count": 41,
   "id": "e4905333-883e-43da-a0d1-2c032b4701df",
   "metadata": {},
   "outputs": [
    {
     "data": {
      "text/plain": [
       "{23, 56}"
      ]
     },
     "execution_count": 41,
     "metadata": {},
     "output_type": "execute_result"
    }
   ],
   "source": [
    "a.pop()\n",
    "a"
   ]
  },
  {
   "cell_type": "code",
   "execution_count": 45,
   "id": "b4fa8dda-0c5d-4891-8eb4-0714fc0a11a4",
   "metadata": {},
   "outputs": [
    {
     "ename": "TypeError",
     "evalue": "set.pop() takes no arguments (1 given)",
     "output_type": "error",
     "traceback": [
      "\u001b[1;31m---------------------------------------------------------------------------\u001b[0m",
      "\u001b[1;31mTypeError\u001b[0m                                 Traceback (most recent call last)",
      "Cell \u001b[1;32mIn[45], line 1\u001b[0m\n\u001b[1;32m----> 1\u001b[0m a\u001b[38;5;241m.\u001b[39mpop(\u001b[38;5;241m23\u001b[39m)\n\u001b[0;32m      2\u001b[0m a\n",
      "\u001b[1;31mTypeError\u001b[0m: set.pop() takes no arguments (1 given)"
     ]
    }
   ],
   "source": [
    "a.pop(23)\n",
    "a"
   ]
  },
  {
   "cell_type": "code",
   "execution_count": 46,
   "id": "f9cf8974-87ce-4d35-bc7a-4ad635df8670",
   "metadata": {},
   "outputs": [
    {
     "data": {
      "text/plain": [
       "set()"
      ]
     },
     "execution_count": 46,
     "metadata": {},
     "output_type": "execute_result"
    }
   ],
   "source": [
    "a.clear()\n",
    "a"
   ]
  },
  {
   "cell_type": "code",
   "execution_count": 48,
   "id": "bd1a538c-9ed7-4e91-950c-92327f468f1e",
   "metadata": {},
   "outputs": [],
   "source": [
    "a={1,56,65}\n",
    "del a"
   ]
  },
  {
   "cell_type": "code",
   "execution_count": 49,
   "id": "48a6c47f-671c-4aad-b565-8107b2e27ff9",
   "metadata": {},
   "outputs": [
    {
     "ename": "NameError",
     "evalue": "name 'a' is not defined",
     "output_type": "error",
     "traceback": [
      "\u001b[1;31m---------------------------------------------------------------------------\u001b[0m",
      "\u001b[1;31mNameError\u001b[0m                                 Traceback (most recent call last)",
      "Cell \u001b[1;32mIn[49], line 1\u001b[0m\n\u001b[1;32m----> 1\u001b[0m \u001b[38;5;28mprint\u001b[39m(a)\n",
      "\u001b[1;31mNameError\u001b[0m: name 'a' is not defined"
     ]
    }
   ],
   "source": [
    "print(a)"
   ]
  },
  {
   "cell_type": "code",
   "execution_count": 50,
   "id": "a18d26db-2874-4c50-9663-60853ad9ce37",
   "metadata": {},
   "outputs": [
    {
     "name": "stdout",
     "output_type": "stream",
     "text": [
      "{64, 23, 25, 28, 30}\n"
     ]
    }
   ],
   "source": [
    "#Union\n",
    "s={25,28,64,23}\n",
    "m={28,30,23}\n",
    "print(s | m )"
   ]
  },
  {
   "cell_type": "code",
   "execution_count": 51,
   "id": "e78659e5-b279-402d-b25e-b184cd7c8434",
   "metadata": {},
   "outputs": [
    {
     "name": "stdout",
     "output_type": "stream",
     "text": [
      "{28, 23}\n"
     ]
    }
   ],
   "source": [
    "#intersection\n",
    "print(s & m)"
   ]
  },
  {
   "cell_type": "code",
   "execution_count": 52,
   "id": "8b46b148-2700-4326-9993-785ea9a9d955",
   "metadata": {},
   "outputs": [
    {
     "name": "stdout",
     "output_type": "stream",
     "text": [
      "{64, 25}\n"
     ]
    }
   ],
   "source": [
    "#difference\n",
    "print(s-m)"
   ]
  },
  {
   "cell_type": "code",
   "execution_count": 53,
   "id": "d9505d30-4ee2-4a57-bbe2-0d2ce9b86b90",
   "metadata": {},
   "outputs": [
    {
     "name": "stdout",
     "output_type": "stream",
     "text": [
      "{30}\n"
     ]
    }
   ],
   "source": [
    "print(m-s)"
   ]
  },
  {
   "cell_type": "code",
   "execution_count": 54,
   "id": "dd5a1b41-6ad4-4e3a-878d-fd49757ff6b0",
   "metadata": {},
   "outputs": [
    {
     "name": "stdout",
     "output_type": "stream",
     "text": [
      "{64, 25, 30}\n"
     ]
    }
   ],
   "source": [
    "#Symmeteric_diifference\n",
    "print(s^m)"
   ]
  },
  {
   "cell_type": "code",
   "execution_count": 55,
   "id": "730c703b-ea6d-42f1-9240-0d99a3ad705c",
   "metadata": {},
   "outputs": [
    {
     "data": {
      "text/plain": [
       "{25, 30, 64}"
      ]
     },
     "execution_count": 55,
     "metadata": {},
     "output_type": "execute_result"
    }
   ],
   "source": [
    "s.symmetric_difference_update(m)\n",
    "s"
   ]
  },
  {
   "cell_type": "code",
   "execution_count": 56,
   "id": "eae56bf7-54b4-4aa0-b765-9128f621dcbf",
   "metadata": {},
   "outputs": [
    {
     "data": {
      "text/plain": [
       "{23, 25, 28, 64}"
      ]
     },
     "execution_count": 56,
     "metadata": {},
     "output_type": "execute_result"
    }
   ],
   "source": [
    "m.symmetric_difference_update(s)\n",
    "m"
   ]
  },
  {
   "cell_type": "code",
   "execution_count": 57,
   "id": "9384ccd1-6212-40ab-85ea-756e4a36aac2",
   "metadata": {},
   "outputs": [
    {
     "data": {
      "text/plain": [
       "False"
      ]
     },
     "execution_count": 57,
     "metadata": {},
     "output_type": "execute_result"
    }
   ],
   "source": [
    "s.isdisjoint(m)"
   ]
  },
  {
   "cell_type": "code",
   "execution_count": 59,
   "id": "0b89ea22-5487-4c7a-b20c-d7f16c453f36",
   "metadata": {},
   "outputs": [
    {
     "data": {
      "text/plain": [
       "True"
      ]
     },
     "execution_count": 59,
     "metadata": {},
     "output_type": "execute_result"
    }
   ],
   "source": [
    "a={1,2,3}\n",
    "b={1,2}\n",
    "a.issuperset(b)"
   ]
  },
  {
   "cell_type": "code",
   "execution_count": 60,
   "id": "61168cf5-6e65-47ce-96f5-29dc8431014f",
   "metadata": {},
   "outputs": [
    {
     "data": {
      "text/plain": [
       "False"
      ]
     },
     "execution_count": 60,
     "metadata": {},
     "output_type": "execute_result"
    }
   ],
   "source": [
    "a.issubset(b)"
   ]
  },
  {
   "cell_type": "code",
   "execution_count": 61,
   "id": "621ff5e0-9254-42db-8ef4-30875e4f921d",
   "metadata": {},
   "outputs": [
    {
     "data": {
      "text/plain": [
       "True"
      ]
     },
     "execution_count": 61,
     "metadata": {},
     "output_type": "execute_result"
    }
   ],
   "source": [
    "b.issubset(a)"
   ]
  },
  {
   "cell_type": "code",
   "execution_count": 78,
   "id": "50adf8a8-63b7-4882-97a4-7942533815e7",
   "metadata": {},
   "outputs": [
    {
     "name": "stdout",
     "output_type": "stream",
     "text": [
      "{277: 'Ritik', 65: [232, 2], 'chiku': 62}\n",
      "<class 'dict'>\n"
     ]
    }
   ],
   "source": [
    "#Dictionary\n",
    "d={277:'Ritik',65:[232,2],'chiku':62}\n",
    "print(d)\n",
    "print(type(d))"
   ]
  },
  {
   "cell_type": "code",
   "execution_count": 79,
   "id": "3919b9c8-423c-4d8e-b306-b4602f504357",
   "metadata": {},
   "outputs": [
    {
     "name": "stdout",
     "output_type": "stream",
     "text": [
      "[232, 2]\n"
     ]
    }
   ],
   "source": [
    "print(d[65])"
   ]
  },
  {
   "cell_type": "code",
   "execution_count": 80,
   "id": "1711835b-0aed-4110-95aa-7f3b3caf9a7a",
   "metadata": {},
   "outputs": [
    {
     "name": "stdout",
     "output_type": "stream",
     "text": [
      "dict_keys([277, 65, 'chiku'])\n"
     ]
    }
   ],
   "source": [
    "print(d.keys())"
   ]
  },
  {
   "cell_type": "code",
   "execution_count": 81,
   "id": "0b4fe4e7-c05f-4c06-b3db-642aa3fddd2c",
   "metadata": {},
   "outputs": [
    {
     "name": "stdout",
     "output_type": "stream",
     "text": [
      "dict_values(['Ritik', [232, 2], 62])\n"
     ]
    }
   ],
   "source": [
    "print(d.values())"
   ]
  },
  {
   "cell_type": "code",
   "execution_count": 82,
   "id": "9139e4c3-c4d2-4ee9-a14b-478f252d8282",
   "metadata": {},
   "outputs": [
    {
     "data": {
      "text/plain": [
       "dict_items([(277, 'Ritik'), (65, [232, 2]), ('chiku', 62)])"
      ]
     },
     "execution_count": 82,
     "metadata": {},
     "output_type": "execute_result"
    }
   ],
   "source": [
    "d.items()"
   ]
  },
  {
   "cell_type": "code",
   "execution_count": 86,
   "id": "b451a875-b746-48a3-b643-ff917f55ca00",
   "metadata": {},
   "outputs": [
    {
     "data": {
      "text/plain": [
       "{277: 'Ritik', 65: [232, 2], 'chiku': 62, 'car': 'CRETA'}"
      ]
     },
     "execution_count": 86,
     "metadata": {},
     "output_type": "execute_result"
    }
   ],
   "source": [
    "#Add\n",
    "d['car']='CRETA'\n",
    "d"
   ]
  },
  {
   "cell_type": "code",
   "execution_count": null,
   "id": "1be02a06-47f4-4c53-ad74-8b7d7fde9680",
   "metadata": {},
   "outputs": [],
   "source": [
    "c1={'name1':'Ritik'}\n",
    "c2={'name2':'Sohan'}\n",
    "c3={'name3':'deva'}\n",
    "c="
   ]
  },
  {
   "cell_type": "code",
   "execution_count": 91,
   "id": "8adafded-0aca-473f-abe7-353c2829c03e",
   "metadata": {},
   "outputs": [
    {
     "ename": "ValueError",
     "evalue": "dictionary update sequence element #0 has length 9; 2 is required",
     "output_type": "error",
     "traceback": [
      "\u001b[1;31m---------------------------------------------------------------------------\u001b[0m",
      "\u001b[1;31mValueError\u001b[0m                                Traceback (most recent call last)",
      "Cell \u001b[1;32mIn[91], line 1\u001b[0m\n\u001b[1;32m----> 1\u001b[0m d\u001b[38;5;241m.\u001b[39mupdate({\u001b[38;5;124m'\u001b[39m\u001b[38;5;124ms:52,M:32\u001b[39m\u001b[38;5;124m'\u001b[39m})\n\u001b[0;32m      2\u001b[0m d\n",
      "\u001b[1;31mValueError\u001b[0m: dictionary update sequence element #0 has length 9; 2 is required"
     ]
    }
   ],
   "source": []
  },
  {
   "cell_type": "code",
   "execution_count": null,
   "id": "a32e3699-ec5b-49e4-885e-11378a9deb85",
   "metadata": {},
   "outputs": [],
   "source": []
  }
 ],
 "metadata": {
  "kernelspec": {
   "display_name": "Python 3 (ipykernel)",
   "language": "python",
   "name": "python3"
  },
  "language_info": {
   "codemirror_mode": {
    "name": "ipython",
    "version": 3
   },
   "file_extension": ".py",
   "mimetype": "text/x-python",
   "name": "python",
   "nbconvert_exporter": "python",
   "pygments_lexer": "ipython3",
   "version": "3.11.7"
  }
 },
 "nbformat": 4,
 "nbformat_minor": 5
}
