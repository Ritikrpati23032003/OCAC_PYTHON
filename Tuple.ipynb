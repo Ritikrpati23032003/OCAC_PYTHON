{
 "cells": [
  {
   "cell_type": "code",
   "execution_count": 1,
   "id": "59cd76d0-8a2f-47a6-b1e7-06d13985fe56",
   "metadata": {},
   "outputs": [
    {
     "data": {
      "text/plain": [
       "tuple"
      ]
     },
     "execution_count": 1,
     "metadata": {},
     "output_type": "execute_result"
    }
   ],
   "source": [
    "tup1=()\n",
    "type(tup1)"
   ]
  },
  {
   "cell_type": "code",
   "execution_count": 6,
   "id": "a148d322-9425-41c4-90db-940f4117e63b",
   "metadata": {},
   "outputs": [
    {
     "name": "stdout",
     "output_type": "stream",
     "text": [
      "('siva', 25, [1523, 200], {'Ritik', 20}, (99, 22, 65))\n",
      "5\n"
     ]
    }
   ],
   "source": [
    "tup=('siva',25,[50,200],{20,'Ritik'},(99,22,65))\n",
    "tup[2][0]=1523\n",
    "print(tup)\n",
    "print(len(tup))"
   ]
  },
  {
   "cell_type": "code",
   "execution_count": 10,
   "id": "74bbe5cd-a95f-4406-aafa-a9c0c9efd4b3",
   "metadata": {},
   "outputs": [
    {
     "name": "stdout",
     "output_type": "stream",
     "text": [
      "{'Ritik', 20}\n",
      "200\n",
      "200\n"
     ]
    }
   ],
   "source": [
    "print(tup[3])\n",
    "print(tup[2][1])\n",
    "print(tup[-3][-1])"
   ]
  },
  {
   "cell_type": "code",
   "execution_count": 16,
   "id": "f71676d5-d1a6-464f-a0f4-2ef5c923fe95",
   "metadata": {},
   "outputs": [
    {
     "name": "stdout",
     "output_type": "stream",
     "text": [
      "('siva', 25, [1523, 200], {'Ritik', 20})\n",
      "([1523, 200], {'Ritik', 20}, (99, 22, 65))\n",
      "([1523, 200], {'Ritik', 20})\n"
     ]
    }
   ],
   "source": [
    "print(tup[0:4])\n",
    "print(tup[-3:])\n",
    "print(tup[-3:-1])"
   ]
  },
  {
   "cell_type": "code",
   "execution_count": 18,
   "id": "7ffab771-bbc9-471f-9ac6-dd7fb3f6c0de",
   "metadata": {},
   "outputs": [
    {
     "data": {
      "text/plain": [
       "1"
      ]
     },
     "execution_count": 18,
     "metadata": {},
     "output_type": "execute_result"
    }
   ],
   "source": [
    "tup.index(25)"
   ]
  },
  {
   "cell_type": "code",
   "execution_count": 19,
   "id": "e9c853c0-2418-48fc-9a1f-3e1af85426c9",
   "metadata": {},
   "outputs": [
    {
     "data": {
      "text/plain": [
       "[2, 9, 23, 25, 63, 65]"
      ]
     },
     "execution_count": 19,
     "metadata": {},
     "output_type": "execute_result"
    }
   ],
   "source": [
    "tup1=[25,23,65,9,2,63]\n",
    "sorted(tup1)"
   ]
  },
  {
   "cell_type": "code",
   "execution_count": 20,
   "id": "a5a76fbc-14c3-42c2-9888-8f26efbd40ad",
   "metadata": {},
   "outputs": [
    {
     "data": {
      "text/plain": [
       "False"
      ]
     },
     "execution_count": 20,
     "metadata": {},
     "output_type": "execute_result"
    }
   ],
   "source": [
    "26 in tup1"
   ]
  },
  {
   "cell_type": "code",
   "execution_count": 21,
   "id": "2c3f0c09-d097-4df3-8b80-3f00d34a4f23",
   "metadata": {},
   "outputs": [
    {
     "data": {
      "text/plain": [
       "True"
      ]
     },
     "execution_count": 21,
     "metadata": {},
     "output_type": "execute_result"
    }
   ],
   "source": [
    "2 in tup1"
   ]
  },
  {
   "cell_type": "code",
   "execution_count": null,
   "id": "0d253947-1de1-4f61-89d1-a3c273204b85",
   "metadata": {},
   "outputs": [],
   "source": []
  }
 ],
 "metadata": {
  "kernelspec": {
   "display_name": "Python 3 (ipykernel)",
   "language": "python",
   "name": "python3"
  },
  "language_info": {
   "codemirror_mode": {
    "name": "ipython",
    "version": 3
   },
   "file_extension": ".py",
   "mimetype": "text/x-python",
   "name": "python",
   "nbconvert_exporter": "python",
   "pygments_lexer": "ipython3",
   "version": "3.11.7"
  }
 },
 "nbformat": 4,
 "nbformat_minor": 5
}
