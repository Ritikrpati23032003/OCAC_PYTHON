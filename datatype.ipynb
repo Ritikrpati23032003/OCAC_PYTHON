{
 "cells": [
  {
   "cell_type": "code",
   "execution_count": 1,
   "id": "2d8a23ad-4313-4cd8-99e8-3265a88d045a",
   "metadata": {},
   "outputs": [
    {
     "data": {
      "text/plain": [
       "10.0"
      ]
     },
     "execution_count": 1,
     "metadata": {},
     "output_type": "execute_result"
    }
   ],
   "source": [
    "a=10\n",
    "float(a)"
   ]
  },
  {
   "cell_type": "code",
   "execution_count": 2,
   "id": "a73236db-7696-4fd7-a6cf-6daf6bfebfee",
   "metadata": {},
   "outputs": [
    {
     "name": "stdout",
     "output_type": "stream",
     "text": [
      "10\n"
     ]
    }
   ],
   "source": [
    "a=10.23\n",
    "b=int(a)\n",
    "print(b)"
   ]
  },
  {
   "cell_type": "code",
   "execution_count": 9,
   "id": "b72a5b53-584a-4c01-97dd-d06efe96b3e9",
   "metadata": {},
   "outputs": [
    {
     "data": {
      "text/plain": [
       "1"
      ]
     },
     "execution_count": 9,
     "metadata": {},
     "output_type": "execute_result"
    }
   ],
   "source": [
    "a=True\n",
    "int(a)\n"
   ]
  },
  {
   "cell_type": "code",
   "execution_count": 7,
   "id": "73a41a70-5da5-4702-9ad6-6420c89ecc4e",
   "metadata": {},
   "outputs": [
    {
     "data": {
      "text/plain": [
       "True"
      ]
     },
     "execution_count": 7,
     "metadata": {},
     "output_type": "execute_result"
    }
   ],
   "source": [
    "a=1\n",
    "bool(a)"
   ]
  },
  {
   "cell_type": "code",
   "execution_count": 11,
   "id": "fdfbe2aa-02c2-4e8b-b747-1d349f2eff26",
   "metadata": {},
   "outputs": [
    {
     "data": {
      "text/plain": [
       "int"
      ]
     },
     "execution_count": 11,
     "metadata": {},
     "output_type": "execute_result"
    }
   ],
   "source": [
    "a=True\n",
    "b=int(a)\n",
    "type(b)"
   ]
  },
  {
   "cell_type": "code",
   "execution_count": 13,
   "id": "a0867448-8074-4080-9d29-128d4ee27dfa",
   "metadata": {},
   "outputs": [
    {
     "data": {
      "text/plain": [
       "10.2"
      ]
     },
     "execution_count": 13,
     "metadata": {},
     "output_type": "execute_result"
    }
   ],
   "source": [
    "a=10.2\n",
    "b=False\n",
    "a+b"
   ]
  },
  {
   "cell_type": "code",
   "execution_count": 14,
   "id": "0cabef6b-2bce-403f-9547-a1a7e0df0925",
   "metadata": {},
   "outputs": [
    {
     "data": {
      "text/plain": [
       "0"
      ]
     },
     "execution_count": 14,
     "metadata": {},
     "output_type": "execute_result"
    }
   ],
   "source": [
    "int(False)"
   ]
  },
  {
   "cell_type": "code",
   "execution_count": 15,
   "id": "7dbb0afc-6483-4167-9ba8-411203bbb002",
   "metadata": {},
   "outputs": [
    {
     "data": {
      "text/plain": [
       "2"
      ]
     },
     "execution_count": 15,
     "metadata": {},
     "output_type": "execute_result"
    }
   ],
   "source": [
    "True+True"
   ]
  },
  {
   "cell_type": "code",
   "execution_count": 17,
   "id": "f3405c11-f28a-46bc-b023-1096e19caf02",
   "metadata": {},
   "outputs": [
    {
     "data": {
      "text/plain": [
       "complex"
      ]
     },
     "execution_count": 17,
     "metadata": {},
     "output_type": "execute_result"
    }
   ],
   "source": [
    "x=2+6j\n",
    "type(x)"
   ]
  },
  {
   "cell_type": "code",
   "execution_count": 18,
   "id": "327a5602-c556-480a-b07a-aa5b938c24c0",
   "metadata": {},
   "outputs": [
    {
     "data": {
      "text/plain": [
       "2.0"
      ]
     },
     "execution_count": 18,
     "metadata": {},
     "output_type": "execute_result"
    }
   ],
   "source": [
    "x.real"
   ]
  },
  {
   "cell_type": "code",
   "execution_count": 19,
   "id": "78cae091-fb4a-4a7f-a378-a83688c3acd6",
   "metadata": {},
   "outputs": [
    {
     "data": {
      "text/plain": [
       "6.0"
      ]
     },
     "execution_count": 19,
     "metadata": {},
     "output_type": "execute_result"
    }
   ],
   "source": [
    "x.imag"
   ]
  },
  {
   "cell_type": "code",
   "execution_count": 23,
   "id": "c58863d2-b5d4-4ae1-9757-60b7abafff4d",
   "metadata": {},
   "outputs": [
    {
     "data": {
      "text/plain": [
       "2"
      ]
     },
     "execution_count": 23,
     "metadata": {},
     "output_type": "execute_result"
    }
   ],
   "source": [
    "int(x.real)"
   ]
  },
  {
   "cell_type": "code",
   "execution_count": 26,
   "id": "cde9b5e4-a974-4948-9829-c947ad90cb11",
   "metadata": {},
   "outputs": [
    {
     "name": "stdout",
     "output_type": "stream",
     "text": [
      "Ritik Ranjan Pati\n",
      "Ritik\n",
      "Ranjan\n",
      "Pati\n"
     ]
    }
   ],
   "source": [
    "a='Ritik'\n",
    "b=\"Ranjan\"\n",
    "c='''Pati'''\n",
    "print(a,b,c)\n",
    "print(a)\n",
    "print(b)\n",
    "print(c)"
   ]
  },
  {
   "cell_type": "code",
   "execution_count": 27,
   "id": "ed030e46-f754-4751-bcbd-2e32dbc66b16",
   "metadata": {},
   "outputs": [
    {
     "data": {
      "text/plain": [
       "str"
      ]
     },
     "execution_count": 27,
     "metadata": {},
     "output_type": "execute_result"
    }
   ],
   "source": [
    "type(a)"
   ]
  },
  {
   "cell_type": "code",
   "execution_count": 28,
   "id": "403b921c-1bbb-442c-8313-20c259b71e30",
   "metadata": {},
   "outputs": [
    {
     "data": {
      "text/plain": [
       "str"
      ]
     },
     "execution_count": 28,
     "metadata": {},
     "output_type": "execute_result"
    }
   ],
   "source": [
    "str=\"9348520919\"\n",
    "type(str)"
   ]
  },
  {
   "cell_type": "code",
   "execution_count": 29,
   "id": "f302f542-e1e1-4405-9022-c07001304b59",
   "metadata": {},
   "outputs": [
    {
     "name": "stdout",
     "output_type": "stream",
     "text": [
      "9348520919\n"
     ]
    }
   ],
   "source": [
    "print(str)"
   ]
  },
  {
   "cell_type": "code",
   "execution_count": 30,
   "id": "e8f944de-457b-4d32-995a-f08c8a414555",
   "metadata": {},
   "outputs": [
    {
     "name": "stdout",
     "output_type": "stream",
     "text": [
      "9348520919\n"
     ]
    }
   ],
   "source": [
    "a=int(str)\n",
    "print(a)"
   ]
  },
  {
   "cell_type": "code",
   "execution_count": 31,
   "id": "20e7ce85-e920-490e-bf03-d688116e2666",
   "metadata": {},
   "outputs": [
    {
     "data": {
      "text/plain": [
       "int"
      ]
     },
     "execution_count": 31,
     "metadata": {},
     "output_type": "execute_result"
    }
   ],
   "source": [
    "type(a)"
   ]
  },
  {
   "cell_type": "code",
   "execution_count": 32,
   "id": "a80d98a3-8139-421e-a732-4594880e6f0e",
   "metadata": {},
   "outputs": [
    {
     "data": {
      "text/plain": [
       "'1020'"
      ]
     },
     "execution_count": 32,
     "metadata": {},
     "output_type": "execute_result"
    }
   ],
   "source": [
    "a=\"10\"\n",
    "b=\"20\"\n",
    "a+b"
   ]
  },
  {
   "cell_type": "code",
   "execution_count": 33,
   "id": "0341c415-6a32-47d9-ae25-e231fa5af995",
   "metadata": {},
   "outputs": [
    {
     "data": {
      "text/plain": [
       "str"
      ]
     },
     "execution_count": 33,
     "metadata": {},
     "output_type": "execute_result"
    }
   ],
   "source": [
    "type(a+b)"
   ]
  },
  {
   "cell_type": "code",
   "execution_count": 34,
   "id": "60705647-4abf-40c4-8d30-3f283d129dc8",
   "metadata": {},
   "outputs": [
    {
     "data": {
      "text/plain": [
       "1020"
      ]
     },
     "execution_count": 34,
     "metadata": {},
     "output_type": "execute_result"
    }
   ],
   "source": [
    "int(a+b)"
   ]
  },
  {
   "cell_type": "code",
   "execution_count": 35,
   "id": "7280e54a-84cb-40f9-90f7-8bfe8099d91a",
   "metadata": {},
   "outputs": [
    {
     "data": {
      "text/plain": [
       "30"
      ]
     },
     "execution_count": 35,
     "metadata": {},
     "output_type": "execute_result"
    }
   ],
   "source": [
    "int(a)+int(b)"
   ]
  },
  {
   "cell_type": "code",
   "execution_count": 37,
   "id": "ec755a8c-6c22-46b6-be75-75d41d2f4540",
   "metadata": {},
   "outputs": [
    {
     "data": {
      "text/plain": [
       "'RitikRitikRitikRitikRitik'"
      ]
     },
     "execution_count": 37,
     "metadata": {},
     "output_type": "execute_result"
    }
   ],
   "source": [
    "\"Ritik\"*5 #repeat 5 times"
   ]
  },
  {
   "cell_type": "code",
   "execution_count": 47,
   "id": "4cc47c3c-305b-48de-9698-9bf099d8c3ec",
   "metadata": {},
   "outputs": [
    {
     "ename": "TypeError",
     "evalue": "'str' object is not callable",
     "output_type": "error",
     "traceback": [
      "\u001b[1;31m---------------------------------------------------------------------------\u001b[0m",
      "\u001b[1;31mTypeError\u001b[0m                                 Traceback (most recent call last)",
      "Cell \u001b[1;32mIn[47], line 3\u001b[0m\n\u001b[0;32m      1\u001b[0m a\u001b[38;5;241m=\u001b[39m\u001b[38;5;124m\"\u001b[39m\u001b[38;5;124mRitik\u001b[39m\u001b[38;5;124m\"\u001b[39m\n\u001b[0;32m      2\u001b[0m b\u001b[38;5;241m=\u001b[39m\u001b[38;5;241m1000\u001b[39m\n\u001b[1;32m----> 3\u001b[0m \u001b[38;5;28mprint\u001b[39m(\u001b[38;5;124m\"\u001b[39m\u001b[38;5;124mcongratulations,\u001b[39m\u001b[38;5;124m\"\u001b[39m\u001b[38;5;241m+\u001b[39ma\u001b[38;5;241m+\u001b[39m\u001b[38;5;124m\"\u001b[39m\u001b[38;5;124mYou just wrote,\u001b[39m\u001b[38;5;124m\"\u001b[39m\u001b[38;5;241m+\u001b[39m\u001b[38;5;28mstr\u001b[39m(b)\u001b[38;5;241m+\u001b[39m\u001b[38;5;124m\"\u001b[39m\u001b[38;5;124mlines of code\u001b[39m\u001b[38;5;124m\"\u001b[39m)\n",
      "\u001b[1;31mTypeError\u001b[0m: 'str' object is not callable"
     ]
    }
   ],
   "source": [
    "a=\"Ritik\"\n",
    "b=1000\n",
    "print(\"congratulations,\"+a+\"You just wrote,\"+str(b)+\"lines of code\")"
   ]
  },
  {
   "cell_type": "code",
   "execution_count": 42,
   "id": "c57b646c-29a4-4b79-8dae-3aa8d0ee4066",
   "metadata": {},
   "outputs": [
    {
     "name": "stdout",
     "output_type": "stream",
     "text": [
      "congratulations Ritik You just wrote 1000 lines of code\n"
     ]
    }
   ],
   "source": [
    "print(\"congratulations\",a,\"You just wrote,\",b,\"lines of code\")"
   ]
  },
  {
   "cell_type": "code",
   "execution_count": 48,
   "id": "02d302f0-2fe3-41cf-ae49-4de21e2a188a",
   "metadata": {},
   "outputs": [
    {
     "data": {
      "text/plain": [
       "21"
      ]
     },
     "execution_count": 48,
     "metadata": {},
     "output_type": "execute_result"
    }
   ],
   "source": [
    "a=\"Welcome to my channel\"\n",
    "len(a)"
   ]
  },
  {
   "cell_type": "code",
   "execution_count": 49,
   "id": "d3143cc5-60ce-4e30-b089-92aaa71d63d9",
   "metadata": {},
   "outputs": [],
   "source": [
    "del(a) #delete a string"
   ]
  },
  {
   "cell_type": "code",
   "execution_count": 56,
   "id": "c7b2535b-d070-45e5-9288-5e634b26eb71",
   "metadata": {},
   "outputs": [
    {
     "data": {
      "text/plain": [
       "17"
      ]
     },
     "execution_count": 56,
     "metadata": {},
     "output_type": "execute_result"
    }
   ],
   "source": [
    "a=\"Ritik Ranjan Pati\"\n",
    "len(a)"
   ]
  },
  {
   "cell_type": "code",
   "execution_count": 51,
   "id": "d42a0645-a3b8-48e7-9491-4755ba4ad364",
   "metadata": {},
   "outputs": [
    {
     "name": "stdout",
     "output_type": "stream",
     "text": [
      "Ritik Ranjan Pati\n"
     ]
    }
   ],
   "source": [
    "print(a[:])"
   ]
  },
  {
   "cell_type": "code",
   "execution_count": 52,
   "id": "9c8cabf3-45bc-4aa8-b027-6f989be4a6f5",
   "metadata": {},
   "outputs": [
    {
     "name": "stdout",
     "output_type": "stream",
     "text": [
      "itik Ranjan Pat\n"
     ]
    }
   ],
   "source": [
    "print(a[1:16]) #index1-15"
   ]
  },
  {
   "cell_type": "code",
   "execution_count": 53,
   "id": "8d3f7a2e-4ebb-4265-9412-a33498a61c6c",
   "metadata": {},
   "outputs": [
    {
     "name": "stdout",
     "output_type": "stream",
     "text": [
      "tik Ranjan Pati\n"
     ]
    }
   ],
   "source": [
    "print(a[2:]) # means starts from index no.2 to last index 2-16"
   ]
  },
  {
   "cell_type": "code",
   "execution_count": 54,
   "id": "db9a78c1-becd-42d9-b04d-1ece023a95ba",
   "metadata": {},
   "outputs": [
    {
     "name": "stdout",
     "output_type": "stream",
     "text": [
      "Ritik Ranjan Pa\n"
     ]
    }
   ],
   "source": [
    "print(a[:15]) # index 0-14"
   ]
  },
  {
   "cell_type": "code",
   "execution_count": 59,
   "id": "a1de1e4a-0c49-4036-adaa-a9ba79b8ca1b",
   "metadata": {},
   "outputs": [
    {
     "name": "stdout",
     "output_type": "stream",
     "text": [
      "tik Ranjan\n"
     ]
    }
   ],
   "source": [
    "print(a[2:12])"
   ]
  },
  {
   "cell_type": "code",
   "execution_count": 61,
   "id": "620edba9-c90a-4de4-bf4c-454181bcd933",
   "metadata": {},
   "outputs": [
    {
     "name": "stdout",
     "output_type": "stream",
     "text": [
      "t nn\n"
     ]
    }
   ],
   "source": [
    "print(a[2:12:3])"
   ]
  },
  {
   "cell_type": "code",
   "execution_count": 62,
   "id": "177f361a-aad5-4cd8-8e65-adc111270661",
   "metadata": {},
   "outputs": [
    {
     "name": "stdout",
     "output_type": "stream",
     "text": [
      "i\n"
     ]
    }
   ],
   "source": [
    "print(a[-1]) #backward index"
   ]
  },
  {
   "cell_type": "code",
   "execution_count": 63,
   "id": "3699af88-ba63-4c46-8e53-6d06d26b2882",
   "metadata": {},
   "outputs": [
    {
     "name": "stdout",
     "output_type": "stream",
     "text": [
      "itaP najnaR kitiR\n"
     ]
    }
   ],
   "source": [
    "print(a[: :-1]) # Reverse a string"
   ]
  },
  {
   "cell_type": "code",
   "execution_count": 65,
   "id": "82bd154f-aa41-45f2-9496-edabc05efeae",
   "metadata": {},
   "outputs": [
    {
     "name": "stdout",
     "output_type": "stream",
     "text": [
      "Pa\n"
     ]
    }
   ],
   "source": [
    "print(a[-4:-2])"
   ]
  },
  {
   "cell_type": "code",
   "execution_count": 70,
   "id": "91fe2697-ad30-4553-ab94-e294e60c99e3",
   "metadata": {},
   "outputs": [
    {
     "name": "stdout",
     "output_type": "stream",
     "text": [
      "jan P\n"
     ]
    }
   ],
   "source": [
    "print(a[-8:-3])"
   ]
  },
  {
   "cell_type": "code",
   "execution_count": 73,
   "id": "0225b31e-2003-4338-914f-ee732a90b25e",
   "metadata": {},
   "outputs": [
    {
     "name": "stdout",
     "output_type": "stream",
     "text": [
      "Good morning\n"
     ]
    }
   ],
   "source": [
    "a=\"good morning\"\n",
    "print(a.capitalize()) #starting word convert to capital letter"
   ]
  },
  {
   "cell_type": "code",
   "execution_count": 74,
   "id": "94f73810-a768-4cd4-a9ee-e08301d803e8",
   "metadata": {},
   "outputs": [
    {
     "name": "stdout",
     "output_type": "stream",
     "text": [
      "Good Morning\n"
     ]
    }
   ],
   "source": [
    "b=\"gOOD mORninG\"\n",
    "print(a.title()) # In a sentence starting words be capital or other letter small"
   ]
  },
  {
   "cell_type": "code",
   "execution_count": 75,
   "id": "5ab0458f-55ba-46d0-8b1c-ab0da4b7a3a1",
   "metadata": {},
   "outputs": [
    {
     "data": {
      "text/plain": [
       "'GOOD MORNING'"
      ]
     },
     "execution_count": 75,
     "metadata": {},
     "output_type": "execute_result"
    }
   ],
   "source": [
    "b.upper()"
   ]
  },
  {
   "cell_type": "code",
   "execution_count": 76,
   "id": "120ddbc4-b638-40d0-a6ad-1d131f12bf6e",
   "metadata": {},
   "outputs": [
    {
     "data": {
      "text/plain": [
       "'good morning'"
      ]
     },
     "execution_count": 76,
     "metadata": {},
     "output_type": "execute_result"
    }
   ],
   "source": [
    "b.lower()"
   ]
  },
  {
   "cell_type": "code",
   "execution_count": 77,
   "id": "ef8f43d3-c6f0-44d2-a0ee-cbc91c3801dc",
   "metadata": {},
   "outputs": [
    {
     "data": {
      "text/plain": [
       "['MY', 'name', 'is', 'ritik']"
      ]
     },
     "execution_count": 77,
     "metadata": {},
     "output_type": "execute_result"
    }
   ],
   "source": [
    "st=\"MY name is ritik\"\n",
    "st.split()"
   ]
  },
  {
   "cell_type": "code",
   "execution_count": 79,
   "id": "3e3161e5-f3c0-4b4b-a4b3-a1fd1d858169",
   "metadata": {},
   "outputs": [
    {
     "data": {
      "text/plain": [
       "['MY name is ritik']"
      ]
     },
     "execution_count": 79,
     "metadata": {},
     "output_type": "execute_result"
    }
   ],
   "source": [
    "st.split('#')"
   ]
  },
  {
   "cell_type": "code",
   "execution_count": 80,
   "id": "b5d9f657-3623-4620-8c12-9f381a5fada0",
   "metadata": {},
   "outputs": [
    {
     "data": {
      "text/plain": [
       "['This', 'is', 'a', 'beautiful', 'flower!']"
      ]
     },
     "execution_count": 80,
     "metadata": {},
     "output_type": "execute_result"
    }
   ],
   "source": [
    "\"This is a beautiful flower!\".split()"
   ]
  },
  {
   "cell_type": "code",
   "execution_count": 81,
   "id": "5b9ff85d-f2ff-4388-ac3b-74a73a898dac",
   "metadata": {},
   "outputs": [
    {
     "data": {
      "text/plain": [
       "'This is a beautiful flower!'"
      ]
     },
     "execution_count": 81,
     "metadata": {},
     "output_type": "execute_result"
    }
   ],
   "source": [
    "' '.join(['This', 'is', 'a', 'beautiful', 'flower!'])"
   ]
  },
  {
   "cell_type": "code",
   "execution_count": 85,
   "id": "80216ad7-7131-4280-8e02-aeae67982007",
   "metadata": {},
   "outputs": [
    {
     "data": {
      "text/plain": [
       "13"
      ]
     },
     "execution_count": 85,
     "metadata": {},
     "output_type": "execute_result"
    }
   ],
   "source": [
    "\"Ritik Ranjan Pati\".find(\"P\")"
   ]
  },
  {
   "cell_type": "code",
   "execution_count": 2,
   "id": "64c0ceb0-ce9f-4891-b3a3-5d4145c885c9",
   "metadata": {},
   "outputs": [
    {
     "data": {
      "text/plain": [
       "3"
      ]
     },
     "execution_count": 2,
     "metadata": {},
     "output_type": "execute_result"
    }
   ],
   "source": [
    "\"Ritik Ranjan Pati\".count(\"i\")\n"
   ]
  },
  {
   "cell_type": "code",
   "execution_count": 4,
   "id": "097a0381-33b3-4383-8eea-f41a29b18eb8",
   "metadata": {},
   "outputs": [
    {
     "name": "stdout",
     "output_type": "stream",
     "text": [
      "Chiku\n"
     ]
    }
   ],
   "source": [
    "a=\"Ritik\"\n",
    "print(a.replace(\"Ritik\",\"Chiku\"))"
   ]
  },
  {
   "cell_type": "code",
   "execution_count": 11,
   "id": "6918f017-b1db-4f84-aa58-cd7a4d510f38",
   "metadata": {},
   "outputs": [
    {
     "name": "stdout",
     "output_type": "stream",
     "text": [
      "True\n"
     ]
    }
   ],
   "source": [
    "a=\"G00d\"\n",
    "print(a.isalnum()) "
   ]
  },
  {
   "cell_type": "code",
   "execution_count": 9,
   "id": "26f3cecb-f462-4e9f-a510-358e6b721d8f",
   "metadata": {},
   "outputs": [
    {
     "name": "stdout",
     "output_type": "stream",
     "text": [
      "False\n"
     ]
    }
   ],
   "source": [
    "b=\"Ritik2\"\n",
    "print(b.isalpha())"
   ]
  },
  {
   "cell_type": "code",
   "execution_count": 12,
   "id": "73571376-82ed-4973-9bfd-713b42aa2735",
   "metadata": {},
   "outputs": [
    {
     "data": {
      "text/plain": [
       "True"
      ]
     },
     "execution_count": 12,
     "metadata": {},
     "output_type": "execute_result"
    }
   ],
   "source": [
    "c=\"god\"\n",
    "c.islower()"
   ]
  },
  {
   "cell_type": "code",
   "execution_count": 13,
   "id": "6303ff78-a67d-4cab-b5ac-90bd78eab9a9",
   "metadata": {},
   "outputs": [
    {
     "data": {
      "text/plain": [
       "False"
      ]
     },
     "execution_count": 13,
     "metadata": {},
     "output_type": "execute_result"
    }
   ],
   "source": [
    "c.isupper()"
   ]
  },
  {
   "cell_type": "code",
   "execution_count": 16,
   "id": "c6010edc-3267-4464-a127-af229c51d2d4",
   "metadata": {},
   "outputs": [
    {
     "data": {
      "text/plain": [
       "True"
      ]
     },
     "execution_count": 16,
     "metadata": {},
     "output_type": "execute_result"
    }
   ],
   "source": [
    "d=\"152\"\n",
    "d.isnumeric()"
   ]
  },
  {
   "cell_type": "code",
   "execution_count": 4,
   "id": "1d0b8642-ac00-4802-9318-a8e769fd754f",
   "metadata": {},
   "outputs": [
    {
     "data": {
      "text/plain": [
       "True"
      ]
     },
     "execution_count": 4,
     "metadata": {},
     "output_type": "execute_result"
    }
   ],
   "source": [
    "a=\"Chiku\"\n",
    "a.startswith(\"C\")"
   ]
  },
  {
   "cell_type": "code",
   "execution_count": 5,
   "id": "bcd5aed8-98a6-4541-b016-e354c18d487f",
   "metadata": {},
   "outputs": [
    {
     "data": {
      "text/plain": [
       "True"
      ]
     },
     "execution_count": 5,
     "metadata": {},
     "output_type": "execute_result"
    }
   ],
   "source": [
    "a.endswith(\"u\")"
   ]
  },
  {
   "cell_type": "code",
   "execution_count": 5,
   "id": "3d988278-cece-43f2-b052-76e775a2aebb",
   "metadata": {},
   "outputs": [
    {
     "data": {
      "text/plain": [
       "False"
      ]
     },
     "execution_count": 5,
     "metadata": {},
     "output_type": "execute_result"
    }
   ],
   "source": [
    "a=\"Ritik123 \"\n",
    "a.isspace()"
   ]
  },
  {
   "cell_type": "code",
   "execution_count": 6,
   "id": "3b79b00e-da48-4eda-a985-c1744934faab",
   "metadata": {},
   "outputs": [
    {
     "data": {
      "text/plain": [
       "False"
      ]
     },
     "execution_count": 6,
     "metadata": {},
     "output_type": "execute_result"
    }
   ],
   "source": [
    "a.isdigit()"
   ]
  },
  {
   "cell_type": "code",
   "execution_count": 7,
   "id": "eb5ee211-70e9-4250-82b4-8738847c8bb1",
   "metadata": {},
   "outputs": [
    {
     "data": {
      "text/plain": [
       "False"
      ]
     },
     "execution_count": 7,
     "metadata": {},
     "output_type": "execute_result"
    }
   ],
   "source": [
    "a.istitle()"
   ]
  },
  {
   "cell_type": "code",
   "execution_count": 11,
   "id": "7fc9f389-38db-4462-baad-01dd4299b1dc",
   "metadata": {},
   "outputs": [
    {
     "data": {
      "text/plain": [
       "False"
      ]
     },
     "execution_count": 11,
     "metadata": {},
     "output_type": "execute_result"
    }
   ],
   "source": [
    "a.isupper()"
   ]
  },
  {
   "cell_type": "code",
   "execution_count": null,
   "id": "856062e9-9a61-460f-a45c-72b41877dff5",
   "metadata": {},
   "outputs": [],
   "source": []
  },
  {
   "cell_type": "code",
   "execution_count": null,
   "id": "ee2c53e3-e39b-4a52-acd2-150919bcb293",
   "metadata": {},
   "outputs": [],
   "source": []
  }
 ],
 "metadata": {
  "kernelspec": {
   "display_name": "Python 3 (ipykernel)",
   "language": "python",
   "name": "python3"
  },
  "language_info": {
   "codemirror_mode": {
    "name": "ipython",
    "version": 3
   },
   "file_extension": ".py",
   "mimetype": "text/x-python",
   "name": "python",
   "nbconvert_exporter": "python",
   "pygments_lexer": "ipython3",
   "version": "3.11.7"
  }
 },
 "nbformat": 4,
 "nbformat_minor": 5
}
