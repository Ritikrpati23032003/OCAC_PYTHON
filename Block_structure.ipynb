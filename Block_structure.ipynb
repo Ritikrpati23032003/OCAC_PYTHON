{
 "cells": [
  {
   "cell_type": "code",
   "execution_count": 18,
   "id": "2e0bfd01-99cd-4f8b-9c02-b9f0d485a65a",
   "metadata": {},
   "outputs": [
    {
     "name": "stdout",
     "output_type": "stream",
     "text": [
      "36\n"
     ]
    }
   ],
   "source": [
    "if 2<4:\n",
    "    print(36)"
   ]
  },
  {
   "cell_type": "code",
   "execution_count": 2,
   "id": "60fd46f2-d84f-4a87-b00c-370176c62924",
   "metadata": {},
   "outputs": [
    {
     "name": "stdin",
     "output_type": "stream",
     "text": [
      "Enter lucky number: 25\n",
      "Enter Your number: 25\n"
     ]
    },
    {
     "name": "stdout",
     "output_type": "stream",
     "text": [
      "You won\n"
     ]
    }
   ],
   "source": [
    "a=int(input(\"Enter lucky number:\"))\n",
    "b=int(input(\"Enter Your number:\"))\n",
    "if a==b:\n",
    "    print(\"You won\")\n",
    "else:\n",
    "    print('Better luck next time')"
   ]
  },
  {
   "cell_type": "code",
   "execution_count": 4,
   "id": "17032ce6-5a31-4e5d-836a-9c0530ff7e39",
   "metadata": {},
   "outputs": [
    {
     "name": "stdout",
     "output_type": "stream",
     "text": [
      "Ml\n"
     ]
    }
   ],
   "source": [
    "l=[\"Ritik\",\"Sohan\",\"Papana\",\"Deva\"]\n",
    "if \"Ritik\" not in l:\n",
    "    print('AI')\n",
    "else:\n",
    "    print('Ml')"
   ]
  },
  {
   "cell_type": "code",
   "execution_count": 5,
   "id": "6e98a1a5-fd51-47f6-ad44-08e9182db55f",
   "metadata": {},
   "outputs": [
    {
     "name": "stdin",
     "output_type": "stream",
     "text": [
      "Enter anumber 5\n"
     ]
    },
    {
     "name": "stdout",
     "output_type": "stream",
     "text": [
      "Odd\n",
      "Out of block\n"
     ]
    }
   ],
   "source": [
    "a=int(input(\"Enter anumber\"))\n",
    "if a%2==0:\n",
    "    print('Even')\n",
    "else:\n",
    "    print(\"Odd\")\n",
    "print(\"Out of block\")"
   ]
  },
  {
   "cell_type": "code",
   "execution_count": 6,
   "id": "e05ac111-8484-47c7-aec7-d8401dade44c",
   "metadata": {},
   "outputs": [
    {
     "name": "stdin",
     "output_type": "stream",
     "text": [
      "Enter your mark: 50\n"
     ]
    },
    {
     "name": "stdout",
     "output_type": "stream",
     "text": [
      "Grade c\n"
     ]
    }
   ],
   "source": [
    "a=int(input(\"Enter your mark:\"))\n",
    "if (a>90):\n",
    "    print(\"Grade A\")\n",
    "elif(a>60):\n",
    "    print('Grade B')\n",
    "elif(a>40):\n",
    "    print(\"Grade c\")\n",
    "else:\n",
    "    print('Grade F')\n"
   ]
  },
  {
   "cell_type": "code",
   "execution_count": 7,
   "id": "b6690bc7-e09e-4c5f-bef9-be1697b7b751",
   "metadata": {},
   "outputs": [
    {
     "name": "stdout",
     "output_type": "stream",
     "text": [
      "Elif block\n"
     ]
    }
   ],
   "source": [
    "x=-45.99\n",
    "if((x>0) or (x==-100)):\n",
    "    print(\"X is +ve value or -100\")\n",
    "    print(\"X is negative\")\n",
    "elif(x<0):\n",
    "    print(\"Elif block\")\n",
    "else:\n",
    "    print(\"X is zero\")"
   ]
  },
  {
   "cell_type": "code",
   "execution_count": 8,
   "id": "00211625-45c8-40bb-a1a1-8cbd61e92416",
   "metadata": {},
   "outputs": [
    {
     "name": "stdin",
     "output_type": "stream",
     "text": [
      "enter first number: 20\n",
      "enter second number: 10\n",
      "enter third number: 62\n"
     ]
    },
    {
     "name": "stdout",
     "output_type": "stream",
     "text": [
      "62 is large\n"
     ]
    }
   ],
   "source": [
    "a=int(input(\"enter first number:\"))\n",
    "b=int(input(\"enter second number:\"))\n",
    "c=int(input(\"enter third number:\"))\n",
    "if a>b and a>c:\n",
    "    print(a,\"Is large\")\n",
    "elif(b>c):\n",
    "    print(b,\"is large\")\n",
    "else:\n",
    "    print(c,\"is large\")"
   ]
  },
  {
   "cell_type": "code",
   "execution_count": 9,
   "id": "75e094c9-93f9-471a-ba3d-832fb19d1191",
   "metadata": {},
   "outputs": [
    {
     "name": "stdout",
     "output_type": "stream",
     "text": [
      "+ve number\n"
     ]
    }
   ],
   "source": [
    "num=10\n",
    "if num>=0:\n",
    "    if num==0:\n",
    "        print(\"not\")\n",
    "    else:\n",
    "        print(\"+ve number\")\n",
    "else:\n",
    "    print(\"-ve number\")\n"
   ]
  },
  {
   "cell_type": "code",
   "execution_count": 13,
   "id": "02c5a664-a67d-4af9-9922-cd0ac7705a59",
   "metadata": {},
   "outputs": [
    {
     "name": "stdin",
     "output_type": "stream",
     "text": [
      "Enter pin 2\n"
     ]
    },
    {
     "name": "stdout",
     "output_type": "stream",
     "text": [
      "Invalid pin\n"
     ]
    }
   ],
   "source": [
    "amount=5\n",
    "pin=1234\n",
    "if(int(input('Enter pin'))==1234):\n",
    "    withdraw=int('Withdraw amount:'))\n",
    "    if (withdraw<=amount):\n",
    "        print(withdraw,\"is successfully transection completed\")\n",
    "    else:\n",
    "        print(withdraw,'No amount')\n",
    "else:\n",
    "    print('Invalid pin')\n"
   ]
  },
  {
   "cell_type": "code",
   "execution_count": null,
   "id": "9e06ffb7-a43f-475c-b8b1-8f8a54f7dfeb",
   "metadata": {},
   "outputs": [],
   "source": []
  }
 ],
 "metadata": {
  "kernelspec": {
   "display_name": "Python 3 (ipykernel)",
   "language": "python",
   "name": "python3"
  },
  "language_info": {
   "codemirror_mode": {
    "name": "ipython",
    "version": 3
   },
   "file_extension": ".py",
   "mimetype": "text/x-python",
   "name": "python",
   "nbconvert_exporter": "python",
   "pygments_lexer": "ipython3",
   "version": "3.11.7"
  }
 },
 "nbformat": 4,
 "nbformat_minor": 5
}
