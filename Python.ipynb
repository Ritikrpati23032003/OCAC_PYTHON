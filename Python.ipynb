{
 "cells": [
  {
   "cell_type": "code",
   "execution_count": 1,
   "id": "0d0edfd0-a03f-4fa3-b43a-906f68c63d4d",
   "metadata": {},
   "outputs": [
    {
     "name": "stdout",
     "output_type": "stream",
     "text": [
      "Hello\n"
     ]
    }
   ],
   "source": [
    "print(\"Hello\")"
   ]
  },
  {
   "cell_type": "code",
   "execution_count": 2,
   "id": "bee798a8-30c8-42e2-a7c6-7bbfe1d785c8",
   "metadata": {},
   "outputs": [
    {
     "name": "stdout",
     "output_type": "stream",
     "text": [
      "5\n"
     ]
    }
   ],
   "source": [
    "print(5)"
   ]
  },
  {
   "cell_type": "code",
   "execution_count": 3,
   "id": "05158e32-7bc8-4403-a677-7adb614d0759",
   "metadata": {},
   "outputs": [
    {
     "name": "stdout",
     "output_type": "stream",
     "text": [
      "15\n"
     ]
    }
   ],
   "source": [
    "a=5\n",
    "b=10\n",
    "print(a+b)"
   ]
  },
  {
   "cell_type": "code",
   "execution_count": 4,
   "id": "8045d45a-949d-4c33-bf47-27b836ebe6a0",
   "metadata": {},
   "outputs": [
    {
     "data": {
      "text/plain": [
       "'C:\\\\Users\\\\ritik\\\\python'"
      ]
     },
     "execution_count": 4,
     "metadata": {},
     "output_type": "execute_result"
    }
   ],
   "source": [
    "pwd\n"
   ]
  },
  {
   "cell_type": "code",
   "execution_count": 2,
   "id": "5ba671e1-27c9-4a55-9ac4-f8428453e1c1",
   "metadata": {},
   "outputs": [
    {
     "name": "stdout",
     "output_type": "stream",
     "text": [
      "<class 'float'>\n"
     ]
    }
   ],
   "source": [
    "a=2.555\n",
    "print(type(a))"
   ]
  },
  {
   "cell_type": "code",
   "execution_count": 3,
   "id": "11b8eb9f-4a3c-4a94-9f96-73a89d3749ae",
   "metadata": {},
   "outputs": [
    {
     "data": {
      "text/plain": [
       "'Ok Good Afternoon'"
      ]
     },
     "execution_count": 3,
     "metadata": {},
     "output_type": "execute_result"
    }
   ],
   "source": [
    "\"Ok Good Afternoon\""
   ]
  },
  {
   "cell_type": "code",
   "execution_count": 4,
   "id": "c88d972d-1903-45fe-967a-e767802aaa51",
   "metadata": {},
   "outputs": [
    {
     "data": {
      "text/plain": [
       "2560765007824"
      ]
     },
     "execution_count": 4,
     "metadata": {},
     "output_type": "execute_result"
    }
   ],
   "source": [
    "id(a)"
   ]
  },
  {
   "cell_type": "code",
   "execution_count": 5,
   "id": "0537697f-81bc-4a9e-ad4a-5bb4d0732aba",
   "metadata": {},
   "outputs": [
    {
     "name": "stdout",
     "output_type": "stream",
     "text": [
      "Sumis 40\n"
     ]
    }
   ],
   "source": [
    "z=15\n",
    "a=25\n",
    "c=z+a\n",
    "c\n",
    "print(\"Sumis\",c)"
   ]
  },
  {
   "cell_type": "code",
   "execution_count": 6,
   "id": "70b9e1e1-d05b-4861-8a2d-c62678cdbcab",
   "metadata": {},
   "outputs": [
    {
     "name": "stdout",
     "output_type": "stream",
     "text": [
      "Sumis 40\n"
     ]
    },
    {
     "data": {
      "text/plain": [
       "40"
      ]
     },
     "execution_count": 6,
     "metadata": {},
     "output_type": "execute_result"
    }
   ],
   "source": [
    "z=15\n",
    "a=25\n",
    "c=z+a\n",
    "print(\"Sumis\",c)\n",
    "c"
   ]
  },
  {
   "cell_type": "code",
   "execution_count": 8,
   "id": "2aa54de1-392a-4747-87bb-5436a422eb68",
   "metadata": {},
   "outputs": [
    {
     "name": "stdout",
     "output_type": "stream",
     "text": [
      "Sumis 40\n"
     ]
    }
   ],
   "source": [
    "z=15\n",
    "a=25\n",
    "c=z+a\n",
    "\n",
    "v=print(\"Sumis\",c)"
   ]
  },
  {
   "cell_type": "code",
   "execution_count": 9,
   "id": "e83e8e72-dda9-4867-80a3-68d0544b9d50",
   "metadata": {},
   "outputs": [
    {
     "name": "stdout",
     "output_type": "stream",
     "text": [
      "Sumis 40\n"
     ]
    }
   ],
   "source": [
    "z=15\n",
    "a=25\n",
    "c=z+a\n",
    "v=print(\"Sumis\",c)"
   ]
  },
  {
   "cell_type": "code",
   "execution_count": 10,
   "id": "f0448f66-4e2b-48b3-ab78-1b3f614a832a",
   "metadata": {},
   "outputs": [
    {
     "data": {
      "text/plain": [
       "145"
      ]
     },
     "execution_count": 10,
     "metadata": {},
     "output_type": "execute_result"
    }
   ],
   "source": [
    "a=145\n",
    "a"
   ]
  },
  {
   "cell_type": "code",
   "execution_count": 11,
   "id": "ea978762-e2fe-4e2d-bac0-6ffc0f244a3e",
   "metadata": {},
   "outputs": [
    {
     "data": {
      "text/plain": [
       "int"
      ]
     },
     "execution_count": 11,
     "metadata": {},
     "output_type": "execute_result"
    }
   ],
   "source": [
    "type(a)"
   ]
  },
  {
   "cell_type": "code",
   "execution_count": 12,
   "id": "378df01c-6c73-4d18-aeb2-743a720f582b",
   "metadata": {},
   "outputs": [
    {
     "name": "stdout",
     "output_type": "stream",
     "text": [
      "<class 'int'>\n"
     ]
    }
   ],
   "source": [
    "print(type(a))"
   ]
  },
  {
   "cell_type": "code",
   "execution_count": 13,
   "id": "71478a7c-c2ee-40b7-ad92-2e22cf3b2ac0",
   "metadata": {},
   "outputs": [
    {
     "name": "stdout",
     "output_type": "stream",
     "text": [
      "['False', 'None', 'True', 'and', 'as', 'assert', 'async', 'await', 'break', 'class', 'continue', 'def', 'del', 'elif', 'else', 'except', 'finally', 'for', 'from', 'global', 'if', 'import', 'in', 'is', 'lambda', 'nonlocal', 'not', 'or', 'pass', 'raise', 'return', 'try', 'while', 'with', 'yield']\n"
     ]
    }
   ],
   "source": [
    "import keyword\n",
    "keywords=keyword.kwlist\n",
    "print(keywords)"
   ]
  },
  {
   "cell_type": "code",
   "execution_count": 14,
   "id": "2d1f6d5a-fedf-4682-b3f2-80d30496f8cb",
   "metadata": {},
   "outputs": [
    {
     "data": {
      "text/plain": [
       "35"
      ]
     },
     "execution_count": 14,
     "metadata": {},
     "output_type": "execute_result"
    }
   ],
   "source": [
    "len(keywords)"
   ]
  },
  {
   "cell_type": "code",
   "execution_count": 20,
   "id": "933e1f41-a196-473c-98eb-93c3027b1df6",
   "metadata": {},
   "outputs": [
    {
     "name": "stdin",
     "output_type": "stream",
     "text": [
      "Enter ur company name:  TCS\n",
      "Enter Employee ID 1025\n"
     ]
    },
    {
     "name": "stdout",
     "output_type": "stream",
     "text": [
      "Company Name is TCS  and E_ID is: 1025\n"
     ]
    }
   ],
   "source": [
    "b=input(\"Enter ur company name: \")\n",
    "c=input(\"Enter Employee ID\")\n",
    "print(\"Company Name is\",b,\" and E_ID is:\",c)\n",
    "# print(\"Company id is:\",c)"
   ]
  },
  {
   "cell_type": "code",
   "execution_count": 16,
   "id": "00a89ab7-685f-42fe-861c-5c8e77dec1d5",
   "metadata": {},
   "outputs": [
    {
     "name": "stdout",
     "output_type": "stream",
     "text": [
      "TCS company name\n"
     ]
    }
   ],
   "source": [
    "print(b,\"company name\")"
   ]
  },
  {
   "cell_type": "code",
   "execution_count": 21,
   "id": "d91f3e56-4445-4b8e-b0ab-02973ec47990",
   "metadata": {},
   "outputs": [
    {
     "name": "stdout",
     "output_type": "stream",
     "text": [
      "I am from TCS and my E_id iS 1025\n"
     ]
    }
   ],
   "source": [
    "print(\"I am from {} and my E_id iS {}\".format(b,c) )"
   ]
  },
  {
   "cell_type": "code",
   "execution_count": 22,
   "id": "92fe2eab-76fa-4806-addc-24045af4e36b",
   "metadata": {},
   "outputs": [
    {
     "name": "stdout",
     "output_type": "stream",
     "text": [
      "10 20\n"
     ]
    }
   ],
   "source": [
    "a,b=10,20\n",
    "print(a,b)"
   ]
  },
  {
   "cell_type": "code",
   "execution_count": 23,
   "id": "aa5265d8-e9f1-4f9b-ac2a-31e5e795a2c2",
   "metadata": {},
   "outputs": [
    {
     "name": "stdout",
     "output_type": "stream",
     "text": [
      "10\n"
     ]
    }
   ],
   "source": [
    "print(a)"
   ]
  },
  {
   "cell_type": "code",
   "execution_count": 24,
   "id": "02dde9f4-f279-4bb0-a912-4bb8246d7a3c",
   "metadata": {},
   "outputs": [
    {
     "data": {
      "text/plain": [
       "10"
      ]
     },
     "execution_count": 24,
     "metadata": {},
     "output_type": "execute_result"
    }
   ],
   "source": [
    "a"
   ]
  },
  {
   "cell_type": "code",
   "execution_count": 25,
   "id": "a341617c-56a1-4c72-bdc0-6e89bee9cc1b",
   "metadata": {},
   "outputs": [],
   "source": [
    "del (a)"
   ]
  },
  {
   "cell_type": "code",
   "execution_count": 26,
   "id": "9ece3839-0c0c-484c-ae9a-ba51e542761b",
   "metadata": {},
   "outputs": [
    {
     "ename": "NameError",
     "evalue": "name 'a' is not defined",
     "output_type": "error",
     "traceback": [
      "\u001b[1;31m---------------------------------------------------------------------------\u001b[0m",
      "\u001b[1;31mNameError\u001b[0m                                 Traceback (most recent call last)",
      "Cell \u001b[1;32mIn[26], line 1\u001b[0m\n\u001b[1;32m----> 1\u001b[0m a\n",
      "\u001b[1;31mNameError\u001b[0m: name 'a' is not defined"
     ]
    }
   ],
   "source": [
    "a"
   ]
  },
  {
   "cell_type": "code",
   "execution_count": 29,
   "id": "b4842e04-10eb-4592-9e26-4072e27f5524",
   "metadata": {
    "scrolled": true
   },
   "outputs": [
    {
     "name": "stdout",
     "output_type": "stream",
     "text": [
      "hello RitikGood MorningChiku\n"
     ]
    }
   ],
   "source": [
    "print(\"hello {name}{greeting}{Name}\".format(name=\"Ritik\",greeting=\"Good Morning\",Name=\"Chiku\"))"
   ]
  },
  {
   "cell_type": "code",
   "execution_count": 33,
   "id": "f8e52ac3-85fe-4627-82f4-e4519a8c354c",
   "metadata": {},
   "outputs": [
    {
     "name": "stdout",
     "output_type": "stream",
     "text": [
      "The story of Chiku,Riitk and Chiks is very nice.\n"
     ]
    }
   ],
   "source": [
    "print(\"The story of {},{} and {other} is very nice.\".format('Chiku','Riitk',other=\"Chiks\"))"
   ]
  },
  {
   "cell_type": "code",
   "execution_count": 3,
   "id": "2c41745b-dbfb-4eec-8bd5-402b2c46c3d7",
   "metadata": {},
   "outputs": [
    {
     "name": "stdout",
     "output_type": "stream",
     "text": [
      "My number is 12 and My name is Ritik\n",
      "My number is 12 and My name is Ritik\n",
      "My number is 12 and My name is Ritik\n"
     ]
    }
   ],
   "source": [
    "a=12\n",
    "name='Ritik'\n",
    "print(\"My number is {one} and My name is {two}\".format(one=a,two=name))\n",
    "print(\"My number is {} and My name is {}\".format(a,name))\n",
    "print(\"My number is\",a ,\"and My name is\",name)"
   ]
  },
  {
   "cell_type": "code",
   "execution_count": 7,
   "id": "d1cb563b-c668-4e21-b0f5-b1bb91651cb5",
   "metadata": {},
   "outputs": [
    {
     "name": "stdin",
     "output_type": "stream",
     "text": [
      "Enter a first number: 20\n",
      "Enter a second number: 10\n"
     ]
    },
    {
     "name": "stdout",
     "output_type": "stream",
     "text": [
      "30 10 200 2.0 0\n",
      "sum:30,sub:10,mul:200,div:2.0,mod:0\n"
     ]
    }
   ],
   "source": [
    "a= int(input(\"Enter a first number:\"))\n",
    "b= int(input(\"Enter a second number:\"))\n",
    "add=a+b\n",
    "sub=a-b\n",
    "mul=a*b\n",
    "div=a/b\n",
    "mod=a%b\n",
    "print(add,sub,mul,div,mod)\n",
    "print(\"sum:{0},sub:{1},mul:{2},div:{3},mod:{4}\".format(add,sub,mul,div,mod))"
   ]
  },
  {
   "cell_type": "code",
   "execution_count": 13,
   "id": "f47fb620-505a-4a3c-9023-31c4162cf3e6",
   "metadata": {},
   "outputs": [
    {
     "name": "stdout",
     "output_type": "stream",
     "text": [
      "add :30,sub:10,mul:200,div:2.0,mod:0\n"
     ]
    }
   ],
   "source": [
    "print(\"add :{},sub:{},mul:{},div:{},mod:{}\".format(add,sub,mul,div,mod))"
   ]
  },
  {
   "cell_type": "code",
   "execution_count": 17,
   "id": "c3ed6b45-5ad9-40d3-b7d1-023b20b8d3e3",
   "metadata": {},
   "outputs": [
    {
     "name": "stdout",
     "output_type": "stream",
     "text": [
      "add 30,sub 10,mul 200,div    2.00000,mod 0\n"
     ]
    }
   ],
   "source": [
    "print(\"add %d,sub %d,mul %d,div %10.5f,mod %d\" %(add,sub,mul,div,mod))"
   ]
  },
  {
   "cell_type": "code",
   "execution_count": 20,
   "id": "afe50bad-4271-4c21-b8c6-4a9439f2c35b",
   "metadata": {},
   "outputs": [
    {
     "name": "stdout",
     "output_type": "stream",
     "text": [
      "add  | sub  | mul  | div \n",
      "30   |  10  | 200  | 2.0 \n"
     ]
    }
   ],
   "source": [
    "print('{0:<4} | {1:^4} | {2:^4} | {3:^4}'.format('add','sub','mul','div'))\n",
    "print('{0:<4} | {1:^4} | {2:^4} | {3:^4}'.format(add,sub,mul,div))"
   ]
  },
  {
   "cell_type": "code",
   "execution_count": 21,
   "id": "a86b60a3-2f8e-4211-822a-ee661a8ae158",
   "metadata": {},
   "outputs": [
    {
     "name": "stdout",
     "output_type": "stream",
     "text": [
      "add  | mul  | sub  |  div\n",
      "30   | 200  |  10  |  2.0\n"
     ]
    }
   ],
   "source": [
    "print('{0:<4} | {2:^4} | {1:^4} | {3:>4}'.format('add','sub','mul','div'))\n",
    "print('{0:<4} | {2:^4} | {1:^4} | {3:>4}'.format(add,sub,mul,div))"
   ]
  },
  {
   "cell_type": "code",
   "execution_count": 23,
   "id": "948af464-abb4-4795-b70c-9a086ba20e73",
   "metadata": {},
   "outputs": [
    {
     "name": "stdout",
     "output_type": "stream",
     "text": [
      "Welcome to my world Ritik !\n"
     ]
    }
   ],
   "source": [
    "a=\"Ritik\"\n",
    "print(f\"Welcome to my world {a} !\") #formatting String materials that is the use of f\"\""
   ]
  },
  {
   "cell_type": "code",
   "execution_count": 25,
   "id": "b5e173b5-bac3-4256-9875-1f167ec337ea",
   "metadata": {},
   "outputs": [
    {
     "name": "stdin",
     "output_type": "stream",
     "text": [
      "Enter company name TCS\n",
      "Enter ur employee id 152\n"
     ]
    },
    {
     "name": "stdout",
     "output_type": "stream",
     "text": [
      "Name of company and employee id is TCS 152\n",
      "Name of company is TCS Employee id is 152\n",
      "Name of company is TCS and mployee id is 152\n"
     ]
    }
   ],
   "source": [
    "f=input(\"Enter company name\")\n",
    "g=input(\"Enter ur employee id\")\n",
    "print(\"Name of company and employee id is\",f,g)\n",
    "print(\"Name of company is\",f,\"Employee id is\",g)\n",
    "print(f\"Name of company is {f} and mployee id is {g}\")"
   ]
  },
  {
   "cell_type": "code",
   "execution_count": 26,
   "id": "9a643649-1c0b-4a77-b6e5-2f246e517f9b",
   "metadata": {},
   "outputs": [
    {
     "name": "stdin",
     "output_type": "stream",
     "text": [
      " ritik\n"
     ]
    },
    {
     "data": {
      "text/plain": [
       "str"
      ]
     },
     "execution_count": 26,
     "metadata": {},
     "output_type": "execute_result"
    }
   ],
   "source": [
    "a=input()\n",
    "a\n",
    "type(a)"
   ]
  },
  {
   "cell_type": "code",
   "execution_count": 29,
   "id": "814f195a-c90c-471e-b0f8-6c42866b7944",
   "metadata": {},
   "outputs": [
    {
     "name": "stdin",
     "output_type": "stream",
     "text": [
      "Enter ur age: 21\n"
     ]
    },
    {
     "name": "stdout",
     "output_type": "stream",
     "text": [
      "21.0\n"
     ]
    },
    {
     "data": {
      "text/plain": [
       "float"
      ]
     },
     "execution_count": 29,
     "metadata": {},
     "output_type": "execute_result"
    }
   ],
   "source": [
    "a=float(input(\"Enter ur age:\"))\n",
    "print(a)\n",
    "type(a)"
   ]
  },
  {
   "cell_type": "code",
   "execution_count": 31,
   "id": "903b2cf7-064c-4a29-b331-ca643a836b77",
   "metadata": {},
   "outputs": [
    {
     "name": "stdin",
     "output_type": "stream",
     "text": [
      "What is ur name: Chiku\n"
     ]
    },
    {
     "name": "stdout",
     "output_type": "stream",
     "text": [
      "Good  MorningChiku!\n"
     ]
    }
   ],
   "source": [
    "name=input(\"What is ur name:\")\n",
    "print(\"Good  Morning\"+name+ \"!\")"
   ]
  },
  {
   "cell_type": "code",
   "execution_count": 4,
   "id": "ed7a77ad-c08c-47cc-8529-830a1d844865",
   "metadata": {},
   "outputs": [
    {
     "name": "stdin",
     "output_type": "stream",
     "text": [
      "Enter ur no. 20\n"
     ]
    },
    {
     "name": "stdout",
     "output_type": "stream",
     "text": [
      "20\n"
     ]
    },
    {
     "data": {
      "text/plain": [
       "int"
      ]
     },
     "execution_count": 4,
     "metadata": {},
     "output_type": "execute_result"
    }
   ],
   "source": [
    "a=int(input(\"Enter ur no.\"))\n",
    "print(a)\n",
    "type(a)"
   ]
  },
  {
   "cell_type": "code",
   "execution_count": 6,
   "id": "6cb3d36c-b8ac-480f-94b2-bd9d4556f6ef",
   "metadata": {},
   "outputs": [
    {
     "name": "stdout",
     "output_type": "stream",
     "text": [
      "Ritik\n"
     ]
    },
    {
     "data": {
      "text/plain": [
       "'Ritik'"
      ]
     },
     "execution_count": 6,
     "metadata": {},
     "output_type": "execute_result"
    }
   ],
   "source": [
    "a=b=c=\"Ritik\"\n",
    "print(c)\n",
    "c"
   ]
  },
  {
   "cell_type": "code",
   "execution_count": null,
   "id": "ad1fc213-9547-4389-b12b-0f1936cb1ce8",
   "metadata": {},
   "outputs": [],
   "source": []
  }
 ],
 "metadata": {
  "kernelspec": {
   "display_name": "Python 3 (ipykernel)",
   "language": "python",
   "name": "python3"
  },
  "language_info": {
   "codemirror_mode": {
    "name": "ipython",
    "version": 3
   },
   "file_extension": ".py",
   "mimetype": "text/x-python",
   "name": "python",
   "nbconvert_exporter": "python",
   "pygments_lexer": "ipython3",
   "version": "3.11.7"
  }
 },
 "nbformat": 4,
 "nbformat_minor": 5
}
