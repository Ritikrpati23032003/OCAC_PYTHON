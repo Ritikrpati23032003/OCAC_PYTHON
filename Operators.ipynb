{
 "cells": [
  {
   "cell_type": "code",
   "execution_count": 4,
   "id": "b3f985aa-f7e3-461b-be8e-9990e494dba8",
   "metadata": {},
   "outputs": [
    {
     "name": "stdout",
     "output_type": "stream",
     "text": [
      "30\n",
      "200\n",
      "15\n",
      "1.7142857142857142\n",
      "5\n",
      "8\n",
      "1\n"
     ]
    }
   ],
   "source": [
    "#Arithmatic Operatore\n",
    "print(10+20)\n",
    "print(500-300)\n",
    "print(5*3)\n",
    "print(12/7)\n",
    "print(12%7)\n",
    "print(2**3)\n",
    "print(12//7)"
   ]
  },
  {
   "cell_type": "code",
   "execution_count": 5,
   "id": "b3dce88d-2b77-4b3f-8ca9-40ed86707dde",
   "metadata": {},
   "outputs": [
    {
     "data": {
      "text/plain": [
       "276"
      ]
     },
     "execution_count": 5,
     "metadata": {},
     "output_type": "execute_result"
    }
   ],
   "source": [
    "(2*3)+(5+5)*(3**3)"
   ]
  },
  {
   "cell_type": "code",
   "execution_count": 9,
   "id": "1228cb3b-5479-4e48-ab1a-034351f7e1ea",
   "metadata": {},
   "outputs": [
    {
     "data": {
      "text/plain": [
       "-119.65"
      ]
     },
     "execution_count": 9,
     "metadata": {},
     "output_type": "execute_result"
    }
   ],
   "source": [
    "a=20\n",
    "b=7\n",
    "a-b*a+b/a"
   ]
  },
  {
   "cell_type": "code",
   "execution_count": 10,
   "id": "6b1001c9-8590-451c-87f5-04d3d9c05c8b",
   "metadata": {},
   "outputs": [
    {
     "data": {
      "text/plain": [
       "7"
      ]
     },
     "execution_count": 10,
     "metadata": {},
     "output_type": "execute_result"
    }
   ],
   "source": [
    "8//6%5+2**3-2"
   ]
  },
  {
   "cell_type": "code",
   "execution_count": 11,
   "id": "93c7f59c-97ce-4261-9f4a-63251608788a",
   "metadata": {},
   "outputs": [
    {
     "data": {
      "text/plain": [
       "730"
      ]
     },
     "execution_count": 11,
     "metadata": {},
     "output_type": "execute_result"
    }
   ],
   "source": [
    "(10*(50+23))"
   ]
  },
  {
   "cell_type": "code",
   "execution_count": 12,
   "id": "32146799-88ac-42b1-aa60-c77200a2fd30",
   "metadata": {},
   "outputs": [
    {
     "data": {
      "text/plain": [
       "False"
      ]
     },
     "execution_count": 12,
     "metadata": {},
     "output_type": "execute_result"
    }
   ],
   "source": [
    "#Comparison Operators\n",
    "75<25"
   ]
  },
  {
   "cell_type": "code",
   "execution_count": 13,
   "id": "766a43d0-5505-49c6-9600-bb12d1ed6795",
   "metadata": {},
   "outputs": [
    {
     "data": {
      "text/plain": [
       "True"
      ]
     },
     "execution_count": 13,
     "metadata": {},
     "output_type": "execute_result"
    }
   ],
   "source": [
    "3*5>16/4"
   ]
  },
  {
   "cell_type": "code",
   "execution_count": 14,
   "id": "7d01ab51-233d-4585-891e-1414400056fd",
   "metadata": {},
   "outputs": [
    {
     "data": {
      "text/plain": [
       "False"
      ]
     },
     "execution_count": 14,
     "metadata": {},
     "output_type": "execute_result"
    }
   ],
   "source": [
    "5!=5"
   ]
  },
  {
   "cell_type": "code",
   "execution_count": 15,
   "id": "bb72c114-ebb8-41b6-ad57-97c044be01d3",
   "metadata": {},
   "outputs": [
    {
     "data": {
      "text/plain": [
       "True"
      ]
     },
     "execution_count": 15,
     "metadata": {},
     "output_type": "execute_result"
    }
   ],
   "source": [
    "20 <=20"
   ]
  },
  {
   "cell_type": "code",
   "execution_count": 16,
   "id": "2a926120-4b57-4cd9-a5f9-b9fae019c908",
   "metadata": {},
   "outputs": [
    {
     "data": {
      "text/plain": [
       "False"
      ]
     },
     "execution_count": 16,
     "metadata": {},
     "output_type": "execute_result"
    }
   ],
   "source": [
    "'Ritik'=='ritik'"
   ]
  },
  {
   "cell_type": "code",
   "execution_count": 21,
   "id": "293d7fef-ee2d-4210-925a-27390fa7c30b",
   "metadata": {},
   "outputs": [
    {
     "name": "stdout",
     "output_type": "stream",
     "text": [
      "61\n",
      "4\n"
     ]
    }
   ],
   "source": [
    "#Bitwise Operators\n",
    "a=13\n",
    "b=52\n",
    "print(a|b)\n",
    "print(a&b)"
   ]
  },
  {
   "cell_type": "code",
   "execution_count": 22,
   "id": "9959fa6c-4734-40cc-bac5-848b5dc1d939",
   "metadata": {},
   "outputs": [
    {
     "data": {
      "text/plain": [
       "18"
      ]
     },
     "execution_count": 22,
     "metadata": {},
     "output_type": "execute_result"
    }
   ],
   "source": [
    "22&26"
   ]
  },
  {
   "cell_type": "code",
   "execution_count": 23,
   "id": "e2a68ff8-6b7e-42b3-aa68-118fe4f65798",
   "metadata": {},
   "outputs": [
    {
     "data": {
      "text/plain": [
       "23"
      ]
     },
     "execution_count": 23,
     "metadata": {},
     "output_type": "execute_result"
    }
   ],
   "source": [
    "63&87"
   ]
  },
  {
   "cell_type": "code",
   "execution_count": 24,
   "id": "f3dc9a2b-62ee-43a0-8a0d-0b260f9be1c9",
   "metadata": {},
   "outputs": [
    {
     "data": {
      "text/plain": [
       "False"
      ]
     },
     "execution_count": 24,
     "metadata": {},
     "output_type": "execute_result"
    }
   ],
   "source": [
    "#Logical Operators\n",
    "(2>5)and(2<1)"
   ]
  },
  {
   "cell_type": "code",
   "execution_count": 25,
   "id": "dc0cc775-4cd6-4638-ba77-3a84fee36785",
   "metadata": {},
   "outputs": [
    {
     "data": {
      "text/plain": [
       "False"
      ]
     },
     "execution_count": 25,
     "metadata": {},
     "output_type": "execute_result"
    }
   ],
   "source": [
    "(10==10)and(2==3)"
   ]
  },
  {
   "cell_type": "code",
   "execution_count": 26,
   "id": "bcf1fc93-7392-4e06-8b82-f87fbd21a059",
   "metadata": {},
   "outputs": [
    {
     "data": {
      "text/plain": [
       "True"
      ]
     },
     "execution_count": 26,
     "metadata": {},
     "output_type": "execute_result"
    }
   ],
   "source": [
    "(10==10)or(2==3)"
   ]
  },
  {
   "cell_type": "code",
   "execution_count": 27,
   "id": "2071f65a-9df9-4f3d-8c8c-6828d9ff985a",
   "metadata": {},
   "outputs": [
    {
     "data": {
      "text/plain": [
       "False"
      ]
     },
     "execution_count": 27,
     "metadata": {},
     "output_type": "execute_result"
    }
   ],
   "source": [
    "not True"
   ]
  },
  {
   "cell_type": "code",
   "execution_count": 29,
   "id": "f0c8fbb0-7532-4c10-8e2e-ba6e8dbfff80",
   "metadata": {},
   "outputs": [
    {
     "data": {
      "text/plain": [
       "True"
      ]
     },
     "execution_count": 29,
     "metadata": {},
     "output_type": "execute_result"
    }
   ],
   "source": [
    "not False"
   ]
  },
  {
   "cell_type": "code",
   "execution_count": 31,
   "id": "79987233-151b-4c51-a38d-1e3b886cb66f",
   "metadata": {},
   "outputs": [
    {
     "data": {
      "text/plain": [
       "True"
      ]
     },
     "execution_count": 31,
     "metadata": {},
     "output_type": "execute_result"
    }
   ],
   "source": [
    "a=\"Ritik\"\n",
    "a.isalpha() or a.isnum()"
   ]
  },
  {
   "cell_type": "code",
   "execution_count": 36,
   "id": "9ef6da87-2c99-45cd-8875-9ca76ed164b5",
   "metadata": {},
   "outputs": [
    {
     "name": "stdout",
     "output_type": "stream",
     "text": [
      "11\n"
     ]
    }
   ],
   "source": [
    "#Assignment Operators\n",
    "a=10\n",
    "a=a+1\n",
    "print(a)"
   ]
  },
  {
   "cell_type": "code",
   "execution_count": 39,
   "id": "8e599778-51c9-4043-abeb-c5e3c86f520b",
   "metadata": {},
   "outputs": [
    {
     "name": "stdout",
     "output_type": "stream",
     "text": [
      "14\n"
     ]
    }
   ],
   "source": [
    "a+=1\n",
    "print(a)"
   ]
  },
  {
   "cell_type": "code",
   "execution_count": 40,
   "id": "9da7f239-6f0e-4ee1-8898-2bf883ad79e5",
   "metadata": {},
   "outputs": [
    {
     "data": {
      "text/plain": [
       "11"
      ]
     },
     "execution_count": 40,
     "metadata": {},
     "output_type": "execute_result"
    }
   ],
   "source": [
    "a-=3\n",
    "a"
   ]
  },
  {
   "cell_type": "code",
   "execution_count": 41,
   "id": "431e4017-cffe-49b1-9c9b-916a928bf524",
   "metadata": {},
   "outputs": [
    {
     "name": "stdout",
     "output_type": "stream",
     "text": [
      "True\n"
     ]
    }
   ],
   "source": [
    "#identity Operators\n",
    "a=10\n",
    "b=10\n",
    "print(a is b)"
   ]
  },
  {
   "cell_type": "code",
   "execution_count": 47,
   "id": "c635b0c6-391f-4103-92d5-6cc13c1bf766",
   "metadata": {},
   "outputs": [
    {
     "name": "stdout",
     "output_type": "stream",
     "text": [
      "False\n",
      "True\n"
     ]
    }
   ],
   "source": [
    "a=10\n",
    "b=\"20\"\n",
    "print(a is b)\n",
    "print(a is not b)"
   ]
  },
  {
   "cell_type": "code",
   "execution_count": 43,
   "id": "db5500b4-b75b-47d2-a095-8466fad573f2",
   "metadata": {},
   "outputs": [
    {
     "data": {
      "text/plain": [
       "True"
      ]
     },
     "execution_count": 43,
     "metadata": {},
     "output_type": "execute_result"
    }
   ],
   "source": [
    "#Membership Operators\n",
    "a=\"Balasore\"\n",
    "\"sore\" in \"Balasore\""
   ]
  },
  {
   "cell_type": "code",
   "execution_count": 44,
   "id": "25507213-e06e-4928-8181-ac135422e3eb",
   "metadata": {},
   "outputs": [
    {
     "data": {
      "text/plain": [
       "False"
      ]
     },
     "execution_count": 44,
     "metadata": {},
     "output_type": "execute_result"
    }
   ],
   "source": [
    "\"sr\" in \"Balasore\""
   ]
  },
  {
   "cell_type": "code",
   "execution_count": 45,
   "id": "afefa30b-c5f3-4433-b67d-81e8041a2246",
   "metadata": {},
   "outputs": [
    {
     "data": {
      "text/plain": [
       "False"
      ]
     },
     "execution_count": 45,
     "metadata": {},
     "output_type": "execute_result"
    }
   ],
   "source": [
    "l=[22,152,65,45]\n",
    "96 in l"
   ]
  },
  {
   "cell_type": "code",
   "execution_count": 46,
   "id": "d22b1963-ae48-4259-9139-7c675c3f4ffc",
   "metadata": {},
   "outputs": [
    {
     "data": {
      "text/plain": [
       "True"
      ]
     },
     "execution_count": 46,
     "metadata": {},
     "output_type": "execute_result"
    }
   ],
   "source": [
    "23 not in l"
   ]
  },
  {
   "cell_type": "code",
   "execution_count": null,
   "id": "e61c7ff0-d543-4808-94fc-c6c54a89ea0d",
   "metadata": {},
   "outputs": [],
   "source": []
  }
 ],
 "metadata": {
  "kernelspec": {
   "display_name": "Python 3 (ipykernel)",
   "language": "python",
   "name": "python3"
  },
  "language_info": {
   "codemirror_mode": {
    "name": "ipython",
    "version": 3
   },
   "file_extension": ".py",
   "mimetype": "text/x-python",
   "name": "python",
   "nbconvert_exporter": "python",
   "pygments_lexer": "ipython3",
   "version": "3.11.7"
  }
 },
 "nbformat": 4,
 "nbformat_minor": 5
}
